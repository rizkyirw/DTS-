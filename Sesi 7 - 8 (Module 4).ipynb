{
 "cells": [
  {
   "cell_type": "markdown",
   "id": "2b322d4c",
   "metadata": {},
   "source": [
    "# Functions"
   ]
  },
  {
   "cell_type": "code",
   "execution_count": null,
   "id": "cf2565a9",
   "metadata": {},
   "outputs": [],
   "source": [
    "#Digunakan untuk memudahkan dan mempercepat proses pembuatan program\n",
    "\n",
    "#Fungsi dapat dituliskan secara umum sbb :\n",
    "def function_name():\n",
    "    function_body\n",
    "    ..."
   ]
  },
  {
   "cell_type": "code",
   "execution_count": 1,
   "id": "34f722d3",
   "metadata": {},
   "outputs": [
    {
     "name": "stdout",
     "output_type": "stream",
     "text": [
      "Enter your name: asep\n",
      "Hello, asep\n"
     ]
    }
   ],
   "source": [
    "#Contoh\n",
    "\n",
    "def hello(name):    # defining a function\n",
    "    print(\"Hello,\", name)    # body of the function\n",
    "\n",
    "\n",
    "name = input(\"Enter your name: \")\n",
    "\n",
    "hello(name)    # calling the function"
   ]
  },
  {
   "cell_type": "code",
   "execution_count": 2,
   "id": "871b31c0",
   "metadata": {},
   "outputs": [],
   "source": [
    "#Parameter Fungsi\n",
    "\n",
    "#Parameter sebenarnya variabel yang memiliki 2 faktor utama, yaitu :\n",
    "# 1. parameter hanya ada di dalam fungsi ditempat ia didefinisikan, yaitu didalam () pada statement def;\n",
    "# 2. menetapkan nilai ke parameter dilakukan pada saat pemanggilan fungsi, dengan menentukan argumen yang sesuai.\n",
    "\n",
    "#Secara umum parameter fungsi dituliskan sbb : \n",
    "def function(parameter):\n",
    "    ## Body ##"
   ]
  },
  {
   "cell_type": "code",
   "execution_count": 3,
   "id": "9f67f53b",
   "metadata": {},
   "outputs": [
    {
     "name": "stdout",
     "output_type": "stream",
     "text": [
      "Enter a number: 1\n"
     ]
    }
   ],
   "source": [
    "#Contoh \n",
    "def message(number):\n",
    "    print(\"Enter a number:\", number)\n",
    "message(1)"
   ]
  },
  {
   "cell_type": "code",
   "execution_count": 4,
   "id": "d5684898",
   "metadata": {},
   "outputs": [
    {
     "name": "stdout",
     "output_type": "stream",
     "text": [
      "Enter telephone number 11\n",
      "Enter price number 5\n",
      "Enter address number 7 , Manhattan, New York\n",
      "Enter number number number\n"
     ]
    }
   ],
   "source": [
    "#Parameter dapat dibuat lebih dari 1, contohnya \n",
    "\n",
    "def message(what, number):\n",
    "    print(\"Enter\", what, \"number\", number)\n",
    "\n",
    "# invoke the function\n",
    "message(\"telephone\", 11)\n",
    "message(\"price\", 5)\n",
    "message(\"address\", \"7 , Manhattan, New York\")\n",
    "message(\"number\", \"number\")"
   ]
  },
  {
   "cell_type": "code",
   "execution_count": 5,
   "id": "57febd03",
   "metadata": {},
   "outputs": [
    {
     "name": "stdout",
     "output_type": "stream",
     "text": [
      "1 2 3\n",
      "Hello, my name is Luke Skywalker\n",
      "Hello, my name is Jesse Quick\n",
      "Hello, my name is Clark Kent\n",
      "Hello, my name is Skywalker Luke\n",
      "Hello, my name is Quick Jesse\n",
      "Hello, my name is Kent Clark\n"
     ]
    }
   ],
   "source": [
    "#Positional parameter passing\n",
    "#Mengubah nilai dari parameter awal berdasarkan parameter akhir\n",
    "\n",
    "#Contoh 1\n",
    "def my_function(a, b, c):\n",
    "    print(a, b, c)\n",
    "\n",
    "my_function(1, 2, 3)\n",
    "\n",
    "#Contoh 2\n",
    "def introduction(first_name, last_name):\n",
    "    print(\"Hello, my name is\", first_name, last_name)\n",
    "\n",
    "introduction(\"Luke\", \"Skywalker\")\n",
    "introduction(\"Jesse\", \"Quick\")\n",
    "introduction(\"Clark\", \"Kent\")\n",
    "\n",
    "#Contoh 3\n",
    "def introduction(first_name, last_name):\n",
    "    print(\"Hello, my name is\", first_name, last_name)\n",
    "\n",
    "introduction(\"Skywalker\", \"Luke\")\n",
    "introduction(\"Quick\", \"Jesse\")\n",
    "introduction(\"Kent\", \"Clark\")\n"
   ]
  },
  {
   "cell_type": "code",
   "execution_count": 6,
   "id": "f3792449",
   "metadata": {},
   "outputs": [
    {
     "name": "stdout",
     "output_type": "stream",
     "text": [
      "Hello, my name is James Bond\n",
      "Hello, my name is Luke Skywalker\n"
     ]
    }
   ],
   "source": [
    "#Keyword argument passing\n",
    "#Mengambil nilai dari parameter\n",
    "\n",
    "def introduction(first_name, last_name):\n",
    "    print(\"Hello, my name is\", first_name, last_name)\n",
    "\n",
    "introduction(first_name = \"James\", last_name = \"Bond\")\n",
    "introduction(last_name = \"Skywalker\", first_name = \"Luke\")"
   ]
  },
  {
   "cell_type": "code",
   "execution_count": 7,
   "id": "48d98ea4",
   "metadata": {},
   "outputs": [
    {
     "name": "stdout",
     "output_type": "stream",
     "text": [
      "1 + 2 + 3 = 6\n",
      "2 + 3 + 1 = 6\n",
      "3 + 2 + 1 = 6\n",
      "4 + 3 + 2 = 9\n"
     ]
    }
   ],
   "source": [
    "def adding(a, b, c):\n",
    "    print(a, \"+\", b, \"+\", c, \"=\", a + b + c)\n",
    "\n",
    "adding(1, 2, 3)\n",
    "adding(c = 1, a = 2, b = 3)\n",
    "adding(3, c = 1, b = 2)\n",
    "adding(4, 3, c = 2)"
   ]
  },
  {
   "cell_type": "code",
   "execution_count": null,
   "id": "5faf2c22",
   "metadata": {},
   "outputs": [],
   "source": [
    "#Parametrized Function\n",
    "\n",
    "def introduction(first_name, last_name=\"Smith\"):\n",
    "    print(\"Hello, my name is\", first_name, last_name)\n",
    "\n",
    "introduction(first_name = \"Isro'\", last_name = \"Rizky Wibowo\")\n"
   ]
  },
  {
   "cell_type": "code",
   "execution_count": 22,
   "id": "04dda8c8",
   "metadata": {},
   "outputs": [
    {
     "name": "stdout",
     "output_type": "stream",
     "text": [
      "Three...\n",
      "Two...\n",
      "One...\n",
      "Happy New Year!\n"
     ]
    }
   ],
   "source": [
    "#Result instruction\n",
    "#1. Result without expression\n",
    "#ketika digunakan didalam fungsi, dapat memberhentikan langsung eksekusi fungsi dan langsung mereturn ke titik pemanggilan\n",
    "\n",
    "def happy_new_year(wishes = True):\n",
    "    print(\"Three...\")\n",
    "    print(\"Two...\")\n",
    "    print(\"One...\")\n",
    "    if not wishes:\n",
    "        return\n",
    "\n",
    "    print(\"Happy New Year!\")\n",
    "    \n",
    "happy_new_year()"
   ]
  },
  {
   "cell_type": "code",
   "execution_count": 24,
   "id": "e6cdaf7f",
   "metadata": {},
   "outputs": [
    {
     "name": "stdout",
     "output_type": "stream",
     "text": [
      "The boring_function has returned its result. It's: 123\n",
      "This lesson is interesting!\n",
      "'Boredom Mode' ON.\n",
      "This lesson is boring...\n"
     ]
    }
   ],
   "source": [
    "#2. Result with expression\n",
    "#memberhentikan langsung eksekusi fungsi dan fungsi akan mengevaluasi nilai ekspresi dan akan mereturn sebagai hasil dari fungsi\n",
    "\n",
    "#Contoh 1\n",
    "def boring_function():\n",
    "    return 123\n",
    "\n",
    "x = boring_function()\n",
    "\n",
    "print(\"The boring_function has returned its result. It's:\", x)\n",
    "\n",
    "#Contoh 2\n",
    "def boring_function():\n",
    "    print(\"'Boredom Mode' ON.\")\n",
    "    return 123\n",
    "\n",
    "print(\"This lesson is interesting!\")\n",
    "boring_function()\n",
    "print(\"This lesson is boring...\")"
   ]
  },
  {
   "cell_type": "code",
   "execution_count": 26,
   "id": "be58c7c5",
   "metadata": {},
   "outputs": [
    {
     "name": "stdout",
     "output_type": "stream",
     "text": [
      "1900 ->Failed\n",
      "2000 ->OK\n",
      "2016 ->OK\n",
      "1987 ->OK\n"
     ]
    }
   ],
   "source": [
    "#Leap Year Program\n",
    "\n",
    "def is_year_leap(year):\n",
    "    if year >= 1582 :\n",
    "        if year % 4 == 0 :\n",
    "            return True\n",
    "        else :\n",
    "            return False\n",
    "    else :\n",
    "        return False\n",
    "\n",
    "test_data = [1900, 2000, 2016, 1987]\n",
    "test_results = [False, True, True, False]\n",
    "for i in range(len(test_data)):\n",
    "    yr = test_data[i]\n",
    "    print(yr,\"->\",end=\"\")\n",
    "    result = is_year_leap(yr)\n",
    "    if result == test_results[i]:\n",
    "        print(\"OK\")\n",
    "    else:\n",
    "        print(\"Failed\")"
   ]
  },
  {
   "cell_type": "code",
   "execution_count": 28,
   "id": "e5fba902",
   "metadata": {},
   "outputs": [
    {
     "name": "stdout",
     "output_type": "stream",
     "text": [
      "1900 2 ->OK\n",
      "2000 2 ->Failed\n",
      "2016 1 ->OK\n",
      "1987 11 ->OK\n"
     ]
    }
   ],
   "source": [
    "def is_year_leap(year):\n",
    "    if year >= 1582 :\n",
    "        if year % 4 == 0 :\n",
    "            return True\n",
    "        else :\n",
    "            return False\n",
    "    else :\n",
    "        return False\n",
    "\n",
    "def days_in_month(year, month):\n",
    "    if year < 1582 or month < 1 or month > 12:\n",
    "        return None\n",
    "    days = [31, 29, 31, 30, 31, 30, 31, 31, 30, 31, 30, 31] # <- days[1]  different with module\n",
    "    res = days[month - 1]\n",
    "    if month == 2 and is_year_leap(year):\n",
    "        res = 28 # <- different with module\n",
    "    return res\n",
    "\n",
    "test_years = [1900, 2000, 2016, 1987]\n",
    "test_months = [2, 2, 1, 11]\n",
    "test_results = [28, 29, 31, 30]\n",
    "for i in range(len(test_years)):\n",
    "    yr = test_years[i]\n",
    "    mo = test_months[i]\n",
    "    print(yr, mo, \"->\", end=\"\")\n",
    "    result = days_in_month(yr, mo)\n",
    "    if result == test_results[i]:\n",
    "        print(\"OK\")\n",
    "    else:\n",
    "        print(\"Failed\")\n"
   ]
  },
  {
   "cell_type": "code",
   "execution_count": null,
   "id": "9c724977",
   "metadata": {},
   "outputs": [],
   "source": []
  }
 ],
 "metadata": {
  "kernelspec": {
   "display_name": "Python 3 (ipykernel)",
   "language": "python",
   "name": "python3"
  },
  "language_info": {
   "codemirror_mode": {
    "name": "ipython",
    "version": 3
   },
   "file_extension": ".py",
   "mimetype": "text/x-python",
   "name": "python",
   "nbconvert_exporter": "python",
   "pygments_lexer": "ipython3",
   "version": "3.9.12"
  }
 },
 "nbformat": 4,
 "nbformat_minor": 5
}
