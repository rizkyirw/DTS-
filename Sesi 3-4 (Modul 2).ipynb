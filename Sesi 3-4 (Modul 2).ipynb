{
 "cells": [
  {
   "cell_type": "code",
   "execution_count": 1,
   "id": "a48762c2",
   "metadata": {},
   "outputs": [
    {
     "name": "stdout",
     "output_type": "stream",
     "text": [
      "2\n",
      "<class 'int'>\n",
      "2\n",
      "<class 'str'>\n"
     ]
    }
   ],
   "source": [
    "print(2)\n",
    "print(type(2))\n",
    "print(\"2\")\n",
    "print(type(\"2\"))"
   ]
  },
  {
   "cell_type": "code",
   "execution_count": 2,
   "id": "85726259",
   "metadata": {},
   "outputs": [
    {
     "name": "stdout",
     "output_type": "stream",
     "text": [
      "9.0\n",
      "0.8\n",
      "7.0\n"
     ]
    }
   ],
   "source": [
    "#Type data float\n",
    "print(9.0)\n",
    "print(.8)\n",
    "print(7.)"
   ]
  },
  {
   "cell_type": "code",
   "execution_count": 3,
   "id": "9420d5cd",
   "metadata": {},
   "outputs": [
    {
     "name": "stdout",
     "output_type": "stream",
     "text": [
      "apel\n",
      "pisang\n",
      "pepaya\n",
      "madu\n"
     ]
    }
   ],
   "source": [
    "#beri nama variabel gak boleh angka dulu trs abjad, contoh pemberian nama variabel\n",
    "a = \"apel\"\n",
    "a2 = \"pisang\"\n",
    "aa2 = \"pepaya\"\n",
    "_a = \"madu\"\n",
    "\n",
    "print(a)\n",
    "print(a2)\n",
    "print(aa2)\n",
    "print(_a)"
   ]
  },
  {
   "cell_type": "code",
   "execution_count": null,
   "id": "5b1c213f",
   "metadata": {},
   "outputs": [],
   "source": []
  }
 ],
 "metadata": {
  "kernelspec": {
   "display_name": "Python 3 (ipykernel)",
   "language": "python",
   "name": "python3"
  },
  "language_info": {
   "codemirror_mode": {
    "name": "ipython",
    "version": 3
   },
   "file_extension": ".py",
   "mimetype": "text/x-python",
   "name": "python",
   "nbconvert_exporter": "python",
   "pygments_lexer": "ipython3",
   "version": "3.9.12"
  }
 },
 "nbformat": 4,
 "nbformat_minor": 5
}
