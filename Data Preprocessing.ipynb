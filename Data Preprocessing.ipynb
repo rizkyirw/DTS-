{
 "cells": [
  {
   "cell_type": "markdown",
   "id": "c68bde0b",
   "metadata": {},
   "source": [
    "# Data Preprocessing"
   ]
  },
  {
   "cell_type": "code",
   "execution_count": 1,
   "id": "6695c2ec",
   "metadata": {},
   "outputs": [
    {
     "name": "stdout",
     "output_type": "stream",
     "text": [
      "Kalimat awal : ibu pasar bapak\n",
      "Kalimat list : ['ke', 'dengan', 'saya', 'dia', 'pergi', 'dan', 'lain']\n",
      "{'ibu': 3, 'pasar': 1, 'bapak': 1}\n",
      "Kalimat terhitung : ibu pasar bapak ibu ibu\n"
     ]
    }
   ],
   "source": [
    "#Function\n",
    "\n",
    "#Contoh 1\n",
    "kalimat = \"Ibu Pergi ke pasar dengan Bapak\"\n",
    "stopw = ['ke','dengan','saya','dia', 'pergi']\n",
    "\n",
    "def removeStop(sentence):\n",
    "    words = [word for word in sentence.split() if word not in stopw]\n",
    "            \n",
    "    return ' '.join(words)\n",
    "    \n",
    "kalimat_stop = removeStop(kalimat.lower())\n",
    "\n",
    "print(\"Kalimat awal :\", kalimat_stop)\n",
    "\n",
    "#Contoh 2\n",
    "def tf(sentence):\n",
    "    d = {}\n",
    "    for word in sentence.split():\n",
    "        if word not in d:\n",
    "            d[word] = 1\n",
    "        else:\n",
    "            d[word] += 1\n",
    "    return d\n",
    "\n",
    "kalimat = \"Ibu pergi ke pasar dengan Bapak dan Ibu Ibu lain\"\n",
    "#append = menambahkan nilai pada posisi akhir\n",
    "stopw.append('dan')\n",
    "stopw.append('lain')\n",
    "kalimat_stop = removeStop(kalimat.lower())\n",
    "tf_kalimat = tf(kalimat_stop)\n",
    "\n",
    "print(\"Kalimat list :\", stopw)\n",
    "print(tf_kalimat)\n",
    "print(\"Kalimat terhitung :\", kalimat_stop)"
   ]
  },
  {
   "cell_type": "code",
   "execution_count": 2,
   "id": "eaafbca6",
   "metadata": {},
   "outputs": [
    {
     "name": "stdout",
     "output_type": "stream",
     "text": [
      "Kucing -> Hewan\n",
      "Apel -> buah\n",
      "Anggur -> buah\n",
      "Ketumbar is not in dictionary\n",
      "Tuna -> Ikan\n"
     ]
    }
   ],
   "source": [
    "#Dictionary\n",
    "\n",
    "dict = {\"Kucing\" : \"Hewan\", \"Apel\" : \"buah\", \"Anggur\" : \"buah\", \"Timun\" : \"Sayuran\", \"Sawi\" : \"Sayuran\", \"Sapi\" : \"Hewan\", \"Tuna\" : \"Ikan\"} #kamus\n",
    "words = ['Kucing', 'Apel', 'Anggur','Ketumbar','Tuna'] # kata yang dipanggil\n",
    "\n",
    "for word in words:\n",
    "    if word in dict:\n",
    "        print(word, \"->\", dict[word])\n",
    "    else:\n",
    "        print(word, \"is not in dictionary\")"
   ]
  },
  {
   "cell_type": "code",
   "execution_count": 3,
   "id": "227fc48c",
   "metadata": {},
   "outputs": [
    {
     "name": "stdout",
     "output_type": "stream",
     "text": [
      "(('aku', 'sedang', 'mandi'), ('tunggu', 5, 'menit ya!'))\n",
      "\n",
      "777\n",
      "Ronaldo\n",
      "https://www.cristianoronaldo.com\n"
     ]
    }
   ],
   "source": [
    "#Tuples\n",
    "\n",
    "#Contoh 1\n",
    "tuple1 = \"aku\", \"sedang\", \"mandi\"\n",
    "tuple2 = \"tunggu\", 5, \"menit ya!\"\n",
    "tuple3 = (tuple1, tuple2) # <- nested tuple\n",
    "\n",
    "print(tuple3)\n",
    "\n",
    "#Contoh 2\n",
    "web = 777, \"Ronaldo\", \"https://www.cristianoronaldo.com\"\n",
    "#unpacking\n",
    "id_web, nama, link = web\n",
    "\n",
    "print()\n",
    "print(id_web)\n",
    "print(nama)\n",
    "print(link)"
   ]
  },
  {
   "cell_type": "markdown",
   "id": "809ec612",
   "metadata": {},
   "source": [
    "## Data Preprocessing "
   ]
  },
  {
   "cell_type": "markdown",
   "id": "8e279f36",
   "metadata": {},
   "source": [
    "Data preprocessing adalah proses yang mengubah data mentah ke dalam bentuk yang lebih mudah dipahami. Proses ini penting dilakukan karena data mentah sering kali tidak memiliki format yang teratur. Selain itu, data mining juga tidak dapat memproses data mentah, sehingga proses ini sangat penting dilakukan untuk mempermudah proses pengolahan berikutnya."
   ]
  },
  {
   "cell_type": "markdown",
   "id": "52f87c03",
   "metadata": {},
   "source": [
    "## Step - Step Data Processing "
   ]
  },
  {
   "cell_type": "markdown",
   "id": "dcd1da1d",
   "metadata": {},
   "source": [
    "1. Data Cleaning\n",
    "2. Data Integration\n",
    "3. Transformasi Data\n",
    "4. Data Reduction"
   ]
  },
  {
   "cell_type": "markdown",
   "id": "a339c35f",
   "metadata": {},
   "source": [
    "## Implementasi Data Preprocessing pada Data Cleaning "
   ]
  },
  {
   "cell_type": "markdown",
   "id": "95f71d52",
   "metadata": {},
   "source": [
    "Data Cleaning : Data yang kita peroleh perlu kita review kembali. Kemudian, hapus atau hilangkan data-data yang tidak lengkap, tidak relevan, dan tidak akurat. Dengan melakukan tahap ini, diharapkan data yang didapat memberikan hasil akurasi yang maksimal pada saat selesai diolah untuk digunakan proses selanjutnya."
   ]
  },
  {
   "cell_type": "markdown",
   "id": "ca9b3e99",
   "metadata": {},
   "source": [
    "Fungsi Data Cleaning : Menghilangkan missing values, Null, Data duplikat, Kesalahan type data, dll."
   ]
  },
  {
   "cell_type": "markdown",
   "id": "3cff975b",
   "metadata": {},
   "source": [
    "Studi Kasus : Data Shopping pada XYZ Marketplace"
   ]
  },
  {
   "cell_type": "code",
   "execution_count": 4,
   "id": "1dbfe6a4",
   "metadata": {},
   "outputs": [],
   "source": [
    "import pandas as pd #handle dataset\n",
    "#import numpy as np #handle math operation\n",
    "#import matplotlib.pyplot as plt #handle visualization\n",
    "#import seaborn as sns #handle visualization"
   ]
  },
  {
   "cell_type": "code",
   "execution_count": 5,
   "id": "ae9299cd",
   "metadata": {},
   "outputs": [
    {
     "data": {
      "text/html": [
       "<div>\n",
       "<style scoped>\n",
       "    .dataframe tbody tr th:only-of-type {\n",
       "        vertical-align: middle;\n",
       "    }\n",
       "\n",
       "    .dataframe tbody tr th {\n",
       "        vertical-align: top;\n",
       "    }\n",
       "\n",
       "    .dataframe thead th {\n",
       "        text-align: right;\n",
       "    }\n",
       "</style>\n",
       "<table border=\"1\" class=\"dataframe\">\n",
       "  <thead>\n",
       "    <tr style=\"text-align: right;\">\n",
       "      <th></th>\n",
       "      <th>Transaction_id</th>\n",
       "      <th>customer_id</th>\n",
       "      <th>Date</th>\n",
       "      <th>Product</th>\n",
       "      <th>Gender</th>\n",
       "      <th>Device_Type</th>\n",
       "      <th>Category</th>\n",
       "      <th>Customer_Login_type</th>\n",
       "      <th>Delivery_Type</th>\n",
       "      <th>Quantity</th>\n",
       "      <th>Amount US$</th>\n",
       "      <th>Individual_Price_US$</th>\n",
       "    </tr>\n",
       "  </thead>\n",
       "  <tbody>\n",
       "    <tr>\n",
       "      <th>0</th>\n",
       "      <td>40170</td>\n",
       "      <td>1348959766</td>\n",
       "      <td>11/14/2013</td>\n",
       "      <td>Hair Band</td>\n",
       "      <td>Female</td>\n",
       "      <td>Web</td>\n",
       "      <td>Accessories</td>\n",
       "      <td>Member</td>\n",
       "      <td>one-day deliver</td>\n",
       "      <td>12</td>\n",
       "      <td>6,910</td>\n",
       "      <td>576</td>\n",
       "    </tr>\n",
       "    <tr>\n",
       "      <th>1</th>\n",
       "      <td>76028</td>\n",
       "      <td>1645228017</td>\n",
       "      <td>12/21/2013</td>\n",
       "      <td>Jean</td>\n",
       "      <td>Female</td>\n",
       "      <td>Web</td>\n",
       "      <td>Clothing</td>\n",
       "      <td>Guest</td>\n",
       "      <td>one-day deliver</td>\n",
       "      <td>16</td>\n",
       "      <td>641</td>\n",
       "      <td>40</td>\n",
       "    </tr>\n",
       "    <tr>\n",
       "      <th>2</th>\n",
       "      <td>17894</td>\n",
       "      <td>1610000572</td>\n",
       "      <td>10/10/2013</td>\n",
       "      <td>Shirt</td>\n",
       "      <td>Male</td>\n",
       "      <td>Web</td>\n",
       "      <td>Clothing</td>\n",
       "      <td>Member</td>\n",
       "      <td>one-day delivery</td>\n",
       "      <td>12</td>\n",
       "      <td>1,647</td>\n",
       "      <td>137</td>\n",
       "    </tr>\n",
       "    <tr>\n",
       "      <th>3</th>\n",
       "      <td>17949</td>\n",
       "      <td>2217960309</td>\n",
       "      <td>10/10/2013</td>\n",
       "      <td>Shirt</td>\n",
       "      <td>Male</td>\n",
       "      <td>Web</td>\n",
       "      <td>Clothing</td>\n",
       "      <td>Member</td>\n",
       "      <td>one-day deliver</td>\n",
       "      <td>17</td>\n",
       "      <td>0</td>\n",
       "      <td>0</td>\n",
       "    </tr>\n",
       "    <tr>\n",
       "      <th>4</th>\n",
       "      <td>17951</td>\n",
       "      <td>2219304866</td>\n",
       "      <td>10/10/2013</td>\n",
       "      <td>Shirts</td>\n",
       "      <td>Male</td>\n",
       "      <td>Web</td>\n",
       "      <td>Clothing</td>\n",
       "      <td>Member</td>\n",
       "      <td>one-day deliver</td>\n",
       "      <td>22</td>\n",
       "      <td>5,298</td>\n",
       "      <td>241</td>\n",
       "    </tr>\n",
       "  </tbody>\n",
       "</table>\n",
       "</div>"
      ],
      "text/plain": [
       "   Transaction_id  customer_id        Date    Product  Gender Device_Type  \\\n",
       "0           40170   1348959766  11/14/2013  Hair Band  Female         Web   \n",
       "1           76028   1645228017  12/21/2013       Jean  Female         Web   \n",
       "2           17894   1610000572  10/10/2013      Shirt    Male         Web   \n",
       "3           17949   2217960309  10/10/2013      Shirt    Male         Web   \n",
       "4           17951   2219304866  10/10/2013     Shirts    Male         Web   \n",
       "\n",
       "      Category Customer_Login_type     Delivery_Type  Quantity Amount US$  \\\n",
       "0  Accessories              Member   one-day deliver        12      6,910   \n",
       "1     Clothing               Guest   one-day deliver        16        641   \n",
       "2     Clothing              Member  one-day delivery        12      1,647   \n",
       "3     Clothing              Member   one-day deliver        17          0   \n",
       "4     Clothing              Member   one-day deliver        22      5,298   \n",
       "\n",
       "  Individual_Price_US$  \n",
       "0                  576  \n",
       "1                   40  \n",
       "2                  137  \n",
       "3                    0  \n",
       "4                  241  "
      ]
     },
     "execution_count": 5,
     "metadata": {},
     "output_type": "execute_result"
    }
   ],
   "source": [
    "#Import data\n",
    "Transaction = pd.read_csv(r'C:\\Users\\rizky\\Downloads\\Dataset\\Transaction.csv')\n",
    "Transaction.head()"
   ]
  },
  {
   "cell_type": "code",
   "execution_count": 6,
   "id": "f56086ce",
   "metadata": {},
   "outputs": [
    {
     "name": "stdout",
     "output_type": "stream",
     "text": [
      "   Transaction_id  customer_id        Date    Product  Gender Device_Type  \\\n",
      "0           40170   1348959766  11/14/2013  Hair Band  Female         Web   \n",
      "1           76028   1645228017  12/21/2013       Jean  Female         Web   \n",
      "2           17894   1610000572  10/10/2013      Shirt    Male         Web   \n",
      "3           17949   2217960309  10/10/2013      Shirt    Male         Web   \n",
      "4           17951   2219304866  10/10/2013     Shirts    Male         Web   \n",
      "\n",
      "      Category Customer_Login_type     Delivery_Type  Quantity Amount US$  \\\n",
      "0  Accessories              Member   one-day deliver        12      6,910   \n",
      "1     Clothing               Guest   one-day deliver        16        641   \n",
      "2     Clothing              Member  one-day delivery        12      1,647   \n",
      "3     Clothing              Member   one-day deliver        17          0   \n",
      "4     Clothing              Member   one-day deliver        22      5,298   \n",
      "\n",
      "  Individual_Price_US$  \n",
      "0                  576  \n",
      "1                   40  \n",
      "2                  137  \n",
      "3                    0  \n",
      "4                  241  \n"
     ]
    }
   ],
   "source": [
    "print(Transaction.head())"
   ]
  },
  {
   "cell_type": "code",
   "execution_count": 7,
   "id": "425f472e",
   "metadata": {},
   "outputs": [
    {
     "name": "stdout",
     "output_type": "stream",
     "text": [
      "<class 'pandas.core.frame.DataFrame'>\n",
      "RangeIndex: 2810 entries, 0 to 2809\n",
      "Data columns (total 12 columns):\n",
      " #   Column                Non-Null Count  Dtype \n",
      "---  ------                --------------  ----- \n",
      " 0   Transaction_id        2810 non-null   int64 \n",
      " 1   customer_id           2810 non-null   int64 \n",
      " 2   Date                  2810 non-null   object\n",
      " 3   Product               2810 non-null   object\n",
      " 4   Gender                2810 non-null   object\n",
      " 5   Device_Type           2810 non-null   object\n",
      " 6   Category              2810 non-null   object\n",
      " 7   Customer_Login_type   2810 non-null   object\n",
      " 8   Delivery_Type         2810 non-null   object\n",
      " 9   Quantity              2810 non-null   int64 \n",
      " 10  Amount US$            2809 non-null   object\n",
      " 11  Individual_Price_US$  2810 non-null   object\n",
      "dtypes: int64(3), object(9)\n",
      "memory usage: 263.6+ KB\n"
     ]
    }
   ],
   "source": [
    "#Cek Info data\n",
    "Transaction.info()"
   ]
  },
  {
   "cell_type": "markdown",
   "id": "6da0c41f",
   "metadata": {},
   "source": [
    "### Cleaning data process :\n",
    "\n",
    "Ganti tipe data untuk transaction_id, customer_id, Amount US, Individual_Price_US dan Date"
   ]
  },
  {
   "cell_type": "code",
   "execution_count": 8,
   "id": "fa442aaf",
   "metadata": {},
   "outputs": [
    {
     "name": "stdout",
     "output_type": "stream",
     "text": [
      "<class 'pandas.core.frame.DataFrame'>\n",
      "RangeIndex: 2810 entries, 0 to 2809\n",
      "Data columns (total 12 columns):\n",
      " #   Column                Non-Null Count  Dtype         \n",
      "---  ------                --------------  -----         \n",
      " 0   Transaction_id        2810 non-null   object        \n",
      " 1   customer_id           2810 non-null   object        \n",
      " 2   Date                  2810 non-null   datetime64[ns]\n",
      " 3   Product               2810 non-null   object        \n",
      " 4   Gender                2810 non-null   object        \n",
      " 5   Device_Type           2810 non-null   object        \n",
      " 6   Category              2810 non-null   object        \n",
      " 7   Customer_Login_type   2810 non-null   object        \n",
      " 8   Delivery_Type         2810 non-null   object        \n",
      " 9   Quantity              2810 non-null   int64         \n",
      " 10  Amount US$            2809 non-null   object        \n",
      " 11  Individual_Price_US$  2810 non-null   object        \n",
      "dtypes: datetime64[ns](1), int64(1), object(10)\n",
      "memory usage: 263.6+ KB\n"
     ]
    }
   ],
   "source": [
    "Transaction[\"Transaction_id\"] = Transaction[\"Transaction_id\"].astype(\"str\")\n",
    "Transaction[\"customer_id\"] = Transaction[\"customer_id\"].astype(\"str\")\n",
    "Transaction[\"Date\"] = pd.to_datetime(Transaction[\"Date\"], format=\"%m/%d/%Y\")\n",
    "Transaction.info()"
   ]
  },
  {
   "cell_type": "code",
   "execution_count": 9,
   "id": "1d7b9b9c",
   "metadata": {},
   "outputs": [
    {
     "data": {
      "text/plain": [
       "0       6,910\n",
       "1         641\n",
       "2       1,647\n",
       "3           0\n",
       "4       5,298\n",
       "        ...  \n",
       "2805    3,495\n",
       "2806    9,900\n",
       "2807    1,768\n",
       "2808    9,216\n",
       "2809    3,298\n",
       "Name: Amount US$, Length: 2810, dtype: object"
      ]
     },
     "execution_count": 9,
     "metadata": {},
     "output_type": "execute_result"
    }
   ],
   "source": [
    "Transaction[\"Amount US$\"]\n",
    "#Data masih dibaca string karena ada huruf koma(,)nya"
   ]
  },
  {
   "cell_type": "code",
   "execution_count": 10,
   "id": "25d06037",
   "metadata": {},
   "outputs": [
    {
     "data": {
      "text/plain": [
       "0       6910\n",
       "1        641\n",
       "2       1647\n",
       "3          0\n",
       "4       5298\n",
       "        ... \n",
       "2805    3495\n",
       "2806    9900\n",
       "2807    1768\n",
       "2808    9216\n",
       "2809    3298\n",
       "Name: Amount US$, Length: 2810, dtype: object"
      ]
     },
     "execution_count": 10,
     "metadata": {},
     "output_type": "execute_result"
    }
   ],
   "source": [
    "#Menghilangkan tanda koma\n",
    "Transaction[\"Amount US$\"] = Transaction[\"Amount US$\"].str.replace(\",\",\"\")\n",
    "Transaction[\"Amount US$\"]"
   ]
  },
  {
   "cell_type": "markdown",
   "id": "ed7012c9",
   "metadata": {},
   "source": [
    "#### Menghilangkan missing value dari data NaN"
   ]
  },
  {
   "cell_type": "code",
   "execution_count": 11,
   "id": "c0b4c63b",
   "metadata": {},
   "outputs": [],
   "source": [
    "Transaction = Transaction.dropna(axis=0) #axis0 = sumbu satu baris data keseluruhan"
   ]
  },
  {
   "cell_type": "code",
   "execution_count": 12,
   "id": "e44ae7a1",
   "metadata": {},
   "outputs": [
    {
     "name": "stdout",
     "output_type": "stream",
     "text": [
      "<class 'pandas.core.frame.DataFrame'>\n",
      "Int64Index: 2809 entries, 0 to 2809\n",
      "Data columns (total 12 columns):\n",
      " #   Column                Non-Null Count  Dtype         \n",
      "---  ------                --------------  -----         \n",
      " 0   Transaction_id        2809 non-null   object        \n",
      " 1   customer_id           2809 non-null   object        \n",
      " 2   Date                  2809 non-null   datetime64[ns]\n",
      " 3   Product               2809 non-null   object        \n",
      " 4   Gender                2809 non-null   object        \n",
      " 5   Device_Type           2809 non-null   object        \n",
      " 6   Category              2809 non-null   object        \n",
      " 7   Customer_Login_type   2809 non-null   object        \n",
      " 8   Delivery_Type         2809 non-null   object        \n",
      " 9   Quantity              2809 non-null   int64         \n",
      " 10  Amount US$            2809 non-null   int32         \n",
      " 11  Individual_Price_US$  2809 non-null   object        \n",
      "dtypes: datetime64[ns](1), int32(1), int64(1), object(9)\n",
      "memory usage: 274.3+ KB\n"
     ]
    }
   ],
   "source": [
    "#Ubah tipe data dari string ke int\n",
    "Transaction[\"Amount US$\"] = Transaction[\"Amount US$\"].astype(\"int\")\n",
    "Transaction.info()"
   ]
  },
  {
   "cell_type": "code",
   "execution_count": 13,
   "id": "f342ec1c",
   "metadata": {},
   "outputs": [
    {
     "data": {
      "text/plain": [
       "array(['576', '40', '137', '0', '241', '237', '88', '125', '155', '939',\n",
       "       '73', '331', '29', '250', '253', '282', '156', '460', '85', '500',\n",
       "       '248', '23', '44', '28', '352', '154', '14', '83', '17', '170',\n",
       "       '267', '131', '150', '378', '144', '169', '145', '36', '60', '473',\n",
       "       '110', '359', '432', '323', '127', '53', '920', '54', '219', '117',\n",
       "       '70', '11', '166', '200', '4', '100', '223', '550', '78', '298',\n",
       "       '714', '329', '58', '1,387', '148', '25', '133', '493', '245',\n",
       "       '108', '59', '65', '1,318', '455', '99', '261', '61', '94', '204',\n",
       "       '231', '695', '64', '32', '859', '56', '143', '382', '130', '33',\n",
       "       '50', '63', '38', '385', '775', '168', '252', '447', '102',\n",
       "       '1,497', '639', '81', '353', '167', '22', '115', '781', '1,389',\n",
       "       '116', '293', '140', '368', '#VALUE!', '80', '182', '18', '15',\n",
       "       '123', '233', '297', '86', '1,343', '176', '313', '306', '42',\n",
       "       '3,839', '95', '6', '257', '383', '243', '242', '47', '8', '341',\n",
       "       '230', '138', '224', '186', '118', '180', '39', '76', '43', '21',\n",
       "       '77', '128', '1,040', '194', '240', '67', '114', '135', '163',\n",
       "       '644', '229', '1,583', '188', '174', '89', '358', '311', '1,036',\n",
       "       '283', '308', '112', '348', '45', '134', '942', '202', '251',\n",
       "       '106', '325', '13', '124', '205', '907', '91', '79', '122', '787',\n",
       "       '694', '386', '300', '71', '474', '770', '9', '195', '333', '107',\n",
       "       '239', '950', '105', '3,972', '316', '82', '62', '840', '334',\n",
       "       '364', '375', '126', '541', '2,361', '41', '768', '272', '808',\n",
       "       '1,516', '285', '307', '1,399', '366', '55', '700', '12', '336',\n",
       "       '119', '157', '469', '2,923', '2,386', '1,111', '457', '357',\n",
       "       '509', '400', '26', '1,566', '3,667', '892', '271', '153', '483',\n",
       "       '309', '206', '1,167', '187', '349', '30', '1,114', '147', '37',\n",
       "       '683', '494', '625', '304', '614', '403', '211', '31', '2,143',\n",
       "       '97', '120', '584', '340', '480', '213', '459', '466', '235',\n",
       "       '103', '210', '2,258', '1,570', '1,106', '162', '529', '553',\n",
       "       '351', '34', '335', '68', '667', '343', '295', '69', '918', '408',\n",
       "       '444', '498', '3,228', '264', '93', '884', '209', '1,209', '238',\n",
       "       '1,028', '1,703', '51', '228', '278', '871', '319', '1,471', '19',\n",
       "       '669', '1,592', '436', '310', '1,599', '225', '332', '172', '35',\n",
       "       '600', '289', '568', '181', '567', '497', '941', '563', '1,667',\n",
       "       '464', '74', '87', '658', '800', '256', '388', '215', '708', '833',\n",
       "       '354', '434', '113', '72', '485', '633', '381', '536', '733', '27',\n",
       "       '585', '450', '299', '1,208', '735', '390', '339', '2,500', '10',\n",
       "       '350', '234', '515', '344', '539', '678', '288', '315', '746',\n",
       "       '1,855', '337', '84', '461', '1,796', '132', '312', '192', '1,429',\n",
       "       '392', '57', '318', '582', '5', '96', '2,750', '729', '1,150',\n",
       "       '2,864', '196', '439', '159', '611', '1,227', '183', '48', '535',\n",
       "       '328', '428', '286', '557', '3', '513', '322', '443', '212', '766',\n",
       "       '226', '1,103', '121', '476', '136', '1,176', '198', '7', '185',\n",
       "       '650', '247', '236', '75', '20', '178', '1,571', '52', '191',\n",
       "       '663', '413', '269', '662', '305', '1,475', '152', '3,632', '273',\n",
       "       '16', '111', '158', '208', '1,406', '989', '173', '998', '684',\n",
       "       '399', '792', '367', '706', '92', '984', '802', '109', '1,633',\n",
       "       '445', '3,026', '222', '1,250', '417', '189', '1,135', '175',\n",
       "       '796', '324', '441', '49', '507', '405', '458', '710', '556', '24',\n",
       "       '255', '214', '1', '1,423', '1,006', '816', '342', '141', '190',\n",
       "       '146', '262', '321', '199', '216', '825', '2,333', '1,252', '139',\n",
       "       '265', '858', '1,207', '217', '142', '672', '767', '530', '418',\n",
       "       '842', '184', '421', '1,056', '937', '410', '583', '566', '276',\n",
       "       '481', '424', '177', '1,024', '218', '640', '275', '426', '66',\n",
       "       '2,415', '599', '284', '302', '709', '2,069', '259', '149', '685',\n",
       "       '1,896', '268', '2,228', '809', '277', '831', '1,062', '832',\n",
       "       '3,279', '314', '565', '478', '129', '609', '165', '1,211', '569',\n",
       "       '1,076', '244', '1,854', '1,212', '1,113', '608', '885', '1,136',\n",
       "       '1,138', '1,674', '438', '456', '427', '151', '266', '2,279',\n",
       "       '776', '4,667', '558', '641', '303', '347', '628', '2,826', '677',\n",
       "       '395', '294', '291', '588', '805', '525', '607', '467', '346',\n",
       "       '572', '3,218', '1,086', '623', '4,730', '617', '90', '1,204',\n",
       "       '1,183', '544', '292', '179', '171', '376', '676', '1,546', '287',\n",
       "       '604', '900', '2,896', '838', '772', '290', '472', '429', '1,943',\n",
       "       '1,660', '279', '263', '1,110', '220', '828', '104', '327', '470',\n",
       "       '671', '945', '518', '591', '201', '46', '1,286', '320', '1,424',\n",
       "       '2,683', '854', '679', '875', '2,015', '502', '5,700', '281',\n",
       "       '164', '889', '394', '2,264', '613', '301', '631', '414', '98',\n",
       "       '898', '538', '895', '927', '365', '968', '1,874', '692', '374',\n",
       "       '391', '1,079', '258', '935', '1,323', '731', '449', '4,944',\n",
       "       '1,013', '2,769', '590', '227', '1,620', '296', '643', '203',\n",
       "       '2,153', '280', '867', '420', '161', '380', '839', '804', '956',\n",
       "       '719', '705', '581', '1,911', '1,154', '488', '1,178', '2', '577',\n",
       "       '274', '317', '1,153', '411', '422', '389', '431', '1,047', '795',\n",
       "       '2,191', '1,513', '387', '652', '635', '384', '1,007', '433',\n",
       "       '101', '822', '1,041', '552', '416', '1,904', '1,093', '2,470',\n",
       "       '533', '2,038', '847', '496', '465', '864', '2,000', '249', '491',\n",
       "       '516', '1,229', '270', '377', '1,448', '419', '1,019', '682',\n",
       "       '356', '1,186', '722', '868', '193', '446', '645', '1,134', '648',\n",
       "       '369', '254', '1,233', '532', '1,232', '1,073', '814', '1,711',\n",
       "       '762'], dtype=object)"
      ]
     },
     "execution_count": 13,
     "metadata": {},
     "output_type": "execute_result"
    }
   ],
   "source": [
    "#Cek data Individual_Price_US\n",
    "Transaction[\"Individual_Price_US$\"].unique()"
   ]
  },
  {
   "cell_type": "markdown",
   "id": "7c409eb1",
   "metadata": {},
   "source": [
    "Menghilangkan data yang memiliki nilai #VALUE!"
   ]
  },
  {
   "cell_type": "code",
   "execution_count": 14,
   "id": "a3272ef8",
   "metadata": {},
   "outputs": [],
   "source": [
    "Transaction = Transaction[Transaction[\"Individual_Price_US$\"]!=\"#VALUE!\"]"
   ]
  },
  {
   "cell_type": "code",
   "execution_count": 15,
   "id": "459314e1",
   "metadata": {},
   "outputs": [],
   "source": [
    "#Menghilangkan tanda koma(,)\n",
    "Transaction[\"Individual_Price_US$\"] = Transaction[\"Individual_Price_US$\"].str.replace(\",\",\"\")"
   ]
  },
  {
   "cell_type": "code",
   "execution_count": 16,
   "id": "7553b02f",
   "metadata": {},
   "outputs": [
    {
     "data": {
      "text/plain": [
       "array(['576', '40', '137', '0', '241', '237', '88', '125', '155', '939',\n",
       "       '73', '331', '29', '250', '253', '282', '156', '460', '85', '500',\n",
       "       '248', '23', '44', '28', '352', '154', '14', '83', '17', '170',\n",
       "       '267', '131', '150', '378', '144', '169', '145', '36', '60', '473',\n",
       "       '110', '359', '432', '323', '127', '53', '920', '54', '219', '117',\n",
       "       '70', '11', '166', '200', '4', '100', '223', '550', '78', '298',\n",
       "       '714', '329', '58', '1387', '148', '25', '133', '493', '245',\n",
       "       '108', '59', '65', '1318', '455', '99', '261', '61', '94', '204',\n",
       "       '231', '695', '64', '32', '859', '56', '143', '382', '130', '33',\n",
       "       '50', '63', '38', '385', '775', '168', '252', '447', '102', '1497',\n",
       "       '639', '81', '353', '167', '22', '115', '781', '1389', '116',\n",
       "       '293', '140', '368', '80', '182', '18', '15', '123', '233', '297',\n",
       "       '86', '1343', '176', '313', '306', '42', '3839', '95', '6', '257',\n",
       "       '383', '243', '242', '47', '8', '341', '230', '138', '224', '186',\n",
       "       '118', '180', '39', '76', '43', '21', '77', '128', '1040', '194',\n",
       "       '240', '67', '114', '135', '163', '644', '229', '1583', '188',\n",
       "       '174', '89', '358', '311', '1036', '283', '308', '112', '348',\n",
       "       '45', '134', '942', '202', '251', '106', '325', '13', '124', '205',\n",
       "       '907', '91', '79', '122', '787', '694', '386', '300', '71', '474',\n",
       "       '770', '9', '195', '333', '107', '239', '950', '105', '3972',\n",
       "       '316', '82', '62', '840', '334', '364', '375', '126', '541',\n",
       "       '2361', '41', '768', '272', '808', '1516', '285', '307', '1399',\n",
       "       '366', '55', '700', '12', '336', '119', '157', '469', '2923',\n",
       "       '2386', '1111', '457', '357', '509', '400', '26', '1566', '3667',\n",
       "       '892', '271', '153', '483', '309', '206', '1167', '187', '349',\n",
       "       '30', '1114', '147', '37', '683', '494', '625', '304', '614',\n",
       "       '403', '211', '31', '2143', '97', '120', '584', '340', '480',\n",
       "       '213', '459', '466', '235', '103', '210', '2258', '1570', '1106',\n",
       "       '162', '529', '553', '351', '34', '335', '68', '667', '343', '295',\n",
       "       '69', '918', '408', '444', '498', '3228', '264', '93', '884',\n",
       "       '209', '1209', '238', '1028', '1703', '51', '228', '278', '871',\n",
       "       '319', '1471', '19', '669', '1592', '436', '310', '1599', '225',\n",
       "       '332', '172', '35', '600', '289', '568', '181', '567', '497',\n",
       "       '941', '563', '1667', '464', '74', '87', '658', '800', '256',\n",
       "       '388', '215', '708', '833', '354', '434', '113', '72', '485',\n",
       "       '633', '381', '536', '733', '27', '585', '450', '299', '1208',\n",
       "       '735', '390', '339', '2500', '10', '350', '234', '515', '344',\n",
       "       '539', '678', '288', '315', '746', '1855', '337', '84', '461',\n",
       "       '1796', '132', '312', '192', '1429', '392', '57', '318', '582',\n",
       "       '5', '96', '2750', '729', '1150', '2864', '196', '439', '159',\n",
       "       '611', '1227', '183', '48', '535', '328', '428', '286', '557', '3',\n",
       "       '513', '322', '443', '212', '766', '226', '1103', '121', '476',\n",
       "       '136', '1176', '198', '7', '185', '650', '247', '236', '75', '20',\n",
       "       '178', '1571', '52', '191', '663', '413', '269', '662', '305',\n",
       "       '1475', '152', '3632', '273', '16', '111', '158', '208', '1406',\n",
       "       '989', '173', '998', '684', '399', '792', '367', '706', '92',\n",
       "       '984', '802', '109', '1633', '445', '3026', '222', '1250', '417',\n",
       "       '189', '1135', '175', '796', '324', '441', '49', '507', '405',\n",
       "       '458', '710', '556', '24', '255', '214', '1', '1423', '1006',\n",
       "       '816', '342', '141', '190', '146', '262', '321', '199', '216',\n",
       "       '825', '2333', '1252', '139', '265', '858', '1207', '217', '142',\n",
       "       '672', '767', '530', '418', '842', '184', '421', '1056', '937',\n",
       "       '410', '583', '566', '276', '481', '424', '177', '1024', '218',\n",
       "       '640', '275', '426', '66', '2415', '599', '284', '302', '709',\n",
       "       '2069', '259', '149', '685', '1896', '268', '2228', '809', '277',\n",
       "       '831', '1062', '832', '3279', '314', '565', '478', '129', '609',\n",
       "       '165', '1211', '569', '1076', '244', '1854', '1212', '1113', '608',\n",
       "       '885', '1136', '1138', '1674', '438', '456', '427', '151', '266',\n",
       "       '2279', '776', '4667', '558', '641', '303', '347', '628', '2826',\n",
       "       '677', '395', '294', '291', '588', '805', '525', '607', '467',\n",
       "       '346', '572', '3218', '1086', '623', '4730', '617', '90', '1204',\n",
       "       '1183', '544', '292', '179', '171', '376', '676', '1546', '287',\n",
       "       '604', '900', '2896', '838', '772', '290', '472', '429', '1943',\n",
       "       '1660', '279', '263', '1110', '220', '828', '104', '327', '470',\n",
       "       '671', '945', '518', '591', '201', '46', '1286', '320', '1424',\n",
       "       '2683', '854', '679', '875', '2015', '502', '5700', '281', '164',\n",
       "       '889', '394', '2264', '613', '301', '631', '414', '98', '898',\n",
       "       '538', '895', '927', '365', '968', '1874', '692', '374', '391',\n",
       "       '1079', '258', '935', '1323', '731', '449', '4944', '1013', '2769',\n",
       "       '590', '227', '1620', '296', '643', '203', '2153', '280', '867',\n",
       "       '420', '161', '380', '839', '804', '956', '719', '705', '581',\n",
       "       '1911', '1154', '488', '1178', '2', '577', '274', '317', '1153',\n",
       "       '411', '422', '389', '431', '1047', '795', '2191', '1513', '387',\n",
       "       '652', '635', '384', '1007', '433', '101', '822', '1041', '552',\n",
       "       '416', '1904', '1093', '2470', '533', '2038', '847', '496', '465',\n",
       "       '864', '2000', '249', '491', '516', '1229', '270', '377', '1448',\n",
       "       '419', '1019', '682', '356', '1186', '722', '868', '193', '446',\n",
       "       '645', '1134', '648', '369', '254', '1233', '532', '1232', '1073',\n",
       "       '814', '1711', '762'], dtype=object)"
      ]
     },
     "execution_count": 16,
     "metadata": {},
     "output_type": "execute_result"
    }
   ],
   "source": [
    "Transaction[\"Individual_Price_US$\"].unique()"
   ]
  },
  {
   "cell_type": "code",
   "execution_count": 17,
   "id": "f2238c94",
   "metadata": {},
   "outputs": [
    {
     "name": "stdout",
     "output_type": "stream",
     "text": [
      "<class 'pandas.core.frame.DataFrame'>\n",
      "Int64Index: 2798 entries, 0 to 2809\n",
      "Data columns (total 12 columns):\n",
      " #   Column                Non-Null Count  Dtype         \n",
      "---  ------                --------------  -----         \n",
      " 0   Transaction_id        2798 non-null   object        \n",
      " 1   customer_id           2798 non-null   object        \n",
      " 2   Date                  2798 non-null   datetime64[ns]\n",
      " 3   Product               2798 non-null   object        \n",
      " 4   Gender                2798 non-null   object        \n",
      " 5   Device_Type           2798 non-null   object        \n",
      " 6   Category              2798 non-null   object        \n",
      " 7   Customer_Login_type   2798 non-null   object        \n",
      " 8   Delivery_Type         2798 non-null   object        \n",
      " 9   Quantity              2798 non-null   int64         \n",
      " 10  Amount US$            2798 non-null   int32         \n",
      " 11  Individual_Price_US$  2798 non-null   int32         \n",
      "dtypes: datetime64[ns](1), int32(2), int64(1), object(8)\n",
      "memory usage: 262.3+ KB\n"
     ]
    }
   ],
   "source": [
    "#Ubah tipe data\n",
    "Transaction[\"Individual_Price_US$\"] = Transaction[\"Individual_Price_US$\"].astype(\"int\")\n",
    "Transaction.info()"
   ]
  },
  {
   "cell_type": "markdown",
   "id": "3c81d2fe",
   "metadata": {},
   "source": [
    "Menghapus data duplikat"
   ]
  },
  {
   "cell_type": "code",
   "execution_count": 18,
   "id": "2fa705bb",
   "metadata": {},
   "outputs": [
    {
     "data": {
      "text/html": [
       "<div>\n",
       "<style scoped>\n",
       "    .dataframe tbody tr th:only-of-type {\n",
       "        vertical-align: middle;\n",
       "    }\n",
       "\n",
       "    .dataframe tbody tr th {\n",
       "        vertical-align: top;\n",
       "    }\n",
       "\n",
       "    .dataframe thead th {\n",
       "        text-align: right;\n",
       "    }\n",
       "</style>\n",
       "<table border=\"1\" class=\"dataframe\">\n",
       "  <thead>\n",
       "    <tr style=\"text-align: right;\">\n",
       "      <th></th>\n",
       "      <th>Transaction_id</th>\n",
       "      <th>customer_id</th>\n",
       "      <th>Date</th>\n",
       "      <th>Product</th>\n",
       "      <th>Gender</th>\n",
       "      <th>Device_Type</th>\n",
       "      <th>Category</th>\n",
       "      <th>Customer_Login_type</th>\n",
       "      <th>Delivery_Type</th>\n",
       "      <th>Quantity</th>\n",
       "      <th>Amount US$</th>\n",
       "      <th>Individual_Price_US$</th>\n",
       "    </tr>\n",
       "  </thead>\n",
       "  <tbody>\n",
       "    <tr>\n",
       "      <th>0</th>\n",
       "      <td>40170</td>\n",
       "      <td>1348959766</td>\n",
       "      <td>2013-11-14</td>\n",
       "      <td>Hair Band</td>\n",
       "      <td>Female</td>\n",
       "      <td>Web</td>\n",
       "      <td>Accessories</td>\n",
       "      <td>Member</td>\n",
       "      <td>one-day deliver</td>\n",
       "      <td>12</td>\n",
       "      <td>6910</td>\n",
       "      <td>576</td>\n",
       "    </tr>\n",
       "    <tr>\n",
       "      <th>1</th>\n",
       "      <td>76028</td>\n",
       "      <td>1645228017</td>\n",
       "      <td>2013-12-21</td>\n",
       "      <td>Jean</td>\n",
       "      <td>Female</td>\n",
       "      <td>Web</td>\n",
       "      <td>Clothing</td>\n",
       "      <td>Guest</td>\n",
       "      <td>one-day deliver</td>\n",
       "      <td>16</td>\n",
       "      <td>641</td>\n",
       "      <td>40</td>\n",
       "    </tr>\n",
       "    <tr>\n",
       "      <th>2</th>\n",
       "      <td>17894</td>\n",
       "      <td>1610000572</td>\n",
       "      <td>2013-10-10</td>\n",
       "      <td>Shirt</td>\n",
       "      <td>Male</td>\n",
       "      <td>Web</td>\n",
       "      <td>Clothing</td>\n",
       "      <td>Member</td>\n",
       "      <td>one-day delivery</td>\n",
       "      <td>12</td>\n",
       "      <td>1647</td>\n",
       "      <td>137</td>\n",
       "    </tr>\n",
       "    <tr>\n",
       "      <th>3</th>\n",
       "      <td>17949</td>\n",
       "      <td>2217960309</td>\n",
       "      <td>2013-10-10</td>\n",
       "      <td>Shirt</td>\n",
       "      <td>Male</td>\n",
       "      <td>Web</td>\n",
       "      <td>Clothing</td>\n",
       "      <td>Member</td>\n",
       "      <td>one-day deliver</td>\n",
       "      <td>17</td>\n",
       "      <td>0</td>\n",
       "      <td>0</td>\n",
       "    </tr>\n",
       "    <tr>\n",
       "      <th>4</th>\n",
       "      <td>17951</td>\n",
       "      <td>2219304866</td>\n",
       "      <td>2013-10-10</td>\n",
       "      <td>Shirts</td>\n",
       "      <td>Male</td>\n",
       "      <td>Web</td>\n",
       "      <td>Clothing</td>\n",
       "      <td>Member</td>\n",
       "      <td>one-day deliver</td>\n",
       "      <td>22</td>\n",
       "      <td>5298</td>\n",
       "      <td>241</td>\n",
       "    </tr>\n",
       "    <tr>\n",
       "      <th>...</th>\n",
       "      <td>...</td>\n",
       "      <td>...</td>\n",
       "      <td>...</td>\n",
       "      <td>...</td>\n",
       "      <td>...</td>\n",
       "      <td>...</td>\n",
       "      <td>...</td>\n",
       "      <td>...</td>\n",
       "      <td>...</td>\n",
       "      <td>...</td>\n",
       "      <td>...</td>\n",
       "      <td>...</td>\n",
       "    </tr>\n",
       "    <tr>\n",
       "      <th>2805</th>\n",
       "      <td>87229</td>\n",
       "      <td>1934341369</td>\n",
       "      <td>2014-01-04</td>\n",
       "      <td>Shoes</td>\n",
       "      <td>Female</td>\n",
       "      <td>Mobile</td>\n",
       "      <td>wearables</td>\n",
       "      <td>Member</td>\n",
       "      <td>one-day deliver</td>\n",
       "      <td>13</td>\n",
       "      <td>3495</td>\n",
       "      <td>269</td>\n",
       "    </tr>\n",
       "    <tr>\n",
       "      <th>2806</th>\n",
       "      <td>91945</td>\n",
       "      <td>1506256089</td>\n",
       "      <td>2014-01-11</td>\n",
       "      <td>Shoes</td>\n",
       "      <td>Female</td>\n",
       "      <td>Mobile</td>\n",
       "      <td>wearables</td>\n",
       "      <td>Member</td>\n",
       "      <td>one-day deliver</td>\n",
       "      <td>13</td>\n",
       "      <td>9900</td>\n",
       "      <td>762</td>\n",
       "    </tr>\n",
       "    <tr>\n",
       "      <th>2807</th>\n",
       "      <td>92063</td>\n",
       "      <td>1651310842</td>\n",
       "      <td>2014-01-11</td>\n",
       "      <td>Shoes</td>\n",
       "      <td>Female</td>\n",
       "      <td>Mobile</td>\n",
       "      <td>wearables</td>\n",
       "      <td>Member</td>\n",
       "      <td>one-day deliver</td>\n",
       "      <td>23</td>\n",
       "      <td>1768</td>\n",
       "      <td>77</td>\n",
       "    </tr>\n",
       "    <tr>\n",
       "      <th>2808</th>\n",
       "      <td>92458</td>\n",
       "      <td>2152149636</td>\n",
       "      <td>2014-01-12</td>\n",
       "      <td>Shoes</td>\n",
       "      <td>Female</td>\n",
       "      <td>Mobile</td>\n",
       "      <td>wearables</td>\n",
       "      <td>Member</td>\n",
       "      <td>one-day deliver</td>\n",
       "      <td>16</td>\n",
       "      <td>9216</td>\n",
       "      <td>576</td>\n",
       "    </tr>\n",
       "    <tr>\n",
       "      <th>2809</th>\n",
       "      <td>92660</td>\n",
       "      <td>1382338268</td>\n",
       "      <td>2014-01-12</td>\n",
       "      <td>Shoes</td>\n",
       "      <td>Female</td>\n",
       "      <td>Mobile</td>\n",
       "      <td>wearables</td>\n",
       "      <td>Member</td>\n",
       "      <td>one-day deliver</td>\n",
       "      <td>16</td>\n",
       "      <td>3298</td>\n",
       "      <td>206</td>\n",
       "    </tr>\n",
       "  </tbody>\n",
       "</table>\n",
       "<p>2798 rows × 12 columns</p>\n",
       "</div>"
      ],
      "text/plain": [
       "     Transaction_id customer_id       Date    Product  Gender Device_Type  \\\n",
       "0             40170  1348959766 2013-11-14  Hair Band  Female         Web   \n",
       "1             76028  1645228017 2013-12-21       Jean  Female         Web   \n",
       "2             17894  1610000572 2013-10-10      Shirt    Male         Web   \n",
       "3             17949  2217960309 2013-10-10      Shirt    Male         Web   \n",
       "4             17951  2219304866 2013-10-10     Shirts    Male         Web   \n",
       "...             ...         ...        ...        ...     ...         ...   \n",
       "2805          87229  1934341369 2014-01-04      Shoes  Female      Mobile   \n",
       "2806          91945  1506256089 2014-01-11      Shoes  Female      Mobile   \n",
       "2807          92063  1651310842 2014-01-11      Shoes  Female      Mobile   \n",
       "2808          92458  2152149636 2014-01-12      Shoes  Female      Mobile   \n",
       "2809          92660  1382338268 2014-01-12      Shoes  Female      Mobile   \n",
       "\n",
       "         Category Customer_Login_type     Delivery_Type  Quantity  Amount US$  \\\n",
       "0     Accessories              Member   one-day deliver        12        6910   \n",
       "1        Clothing               Guest   one-day deliver        16         641   \n",
       "2        Clothing              Member  one-day delivery        12        1647   \n",
       "3        Clothing              Member   one-day deliver        17           0   \n",
       "4        Clothing              Member   one-day deliver        22        5298   \n",
       "...           ...                 ...               ...       ...         ...   \n",
       "2805    wearables              Member   one-day deliver        13        3495   \n",
       "2806    wearables              Member   one-day deliver        13        9900   \n",
       "2807    wearables              Member   one-day deliver        23        1768   \n",
       "2808    wearables              Member   one-day deliver        16        9216   \n",
       "2809    wearables              Member   one-day deliver        16        3298   \n",
       "\n",
       "      Individual_Price_US$  \n",
       "0                      576  \n",
       "1                       40  \n",
       "2                      137  \n",
       "3                        0  \n",
       "4                      241  \n",
       "...                    ...  \n",
       "2805                   269  \n",
       "2806                   762  \n",
       "2807                    77  \n",
       "2808                   576  \n",
       "2809                   206  \n",
       "\n",
       "[2798 rows x 12 columns]"
      ]
     },
     "execution_count": 18,
     "metadata": {},
     "output_type": "execute_result"
    }
   ],
   "source": [
    "Transaction.drop_duplicates()"
   ]
  },
  {
   "cell_type": "code",
   "execution_count": 19,
   "id": "dcff95f4",
   "metadata": {},
   "outputs": [
    {
     "name": "stdout",
     "output_type": "stream",
     "text": [
      "<class 'pandas.core.frame.DataFrame'>\n",
      "Int64Index: 2798 entries, 0 to 2809\n",
      "Data columns (total 12 columns):\n",
      " #   Column                Non-Null Count  Dtype         \n",
      "---  ------                --------------  -----         \n",
      " 0   Transaction_id        2798 non-null   object        \n",
      " 1   customer_id           2798 non-null   object        \n",
      " 2   Date                  2798 non-null   datetime64[ns]\n",
      " 3   Product               2798 non-null   object        \n",
      " 4   Gender                2798 non-null   object        \n",
      " 5   Device_Type           2798 non-null   object        \n",
      " 6   Category              2798 non-null   object        \n",
      " 7   Customer_Login_type   2798 non-null   object        \n",
      " 8   Delivery_Type         2798 non-null   object        \n",
      " 9   Quantity              2798 non-null   int64         \n",
      " 10  Amount US$            2798 non-null   int32         \n",
      " 11  Individual_Price_US$  2798 non-null   int32         \n",
      "dtypes: datetime64[ns](1), int32(2), int64(1), object(8)\n",
      "memory usage: 262.3+ KB\n"
     ]
    }
   ],
   "source": [
    "Transaction.info()"
   ]
  }
 ],
 "metadata": {
  "kernelspec": {
   "display_name": "Python 3 (ipykernel)",
   "language": "python",
   "name": "python3"
  },
  "language_info": {
   "codemirror_mode": {
    "name": "ipython",
    "version": 3
   },
   "file_extension": ".py",
   "mimetype": "text/x-python",
   "name": "python",
   "nbconvert_exporter": "python",
   "pygments_lexer": "ipython3",
   "version": "3.9.12"
  }
 },
 "nbformat": 4,
 "nbformat_minor": 5
}
