{
 "cells": [
  {
   "cell_type": "code",
   "execution_count": null,
   "id": "11ddbb13",
   "metadata": {},
   "outputs": [],
   "source": [
    "a = 5\n",
    "b = 5\n",
    "\n",
    "if a==b:\n",
    "    print(\"berhasil\")\n",
    "else:\n",
    "    print(\"gagal\")"
   ]
  },
  {
   "cell_type": "code",
   "execution_count": 2,
   "id": "4430aaaf",
   "metadata": {},
   "outputs": [
    {
     "name": "stdout",
     "output_type": "stream",
     "text": [
      "Masukan nilai : 3\n",
      "ganjil\n"
     ]
    }
   ],
   "source": [
    "#deteksi genap ganjil (if-else)\n",
    "\n",
    "bil = int(input(\"Masukan nilai : \"))\n",
    "\n",
    "if(bil%2 == 0):\n",
    "    print(\"genap\")\n",
    "else:\n",
    "    print(\"ganjil\")"
   ]
  },
  {
   "cell_type": "code",
   "execution_count": 6,
   "id": "7308f9ec",
   "metadata": {},
   "outputs": [
    {
     "name": "stdout",
     "output_type": "stream",
     "text": [
      "Masukan nilai koordinat\n",
      "Masukan nilai x : 3\n",
      "Masukan nilai y : -1\n",
      "Koordinat (3,-1) berada pada kuadran IV\n"
     ]
    }
   ],
   "source": [
    "#If-else 3 kasus atau lebih\n",
    "\n",
    "print(\"Masukan nilai koordinat\")\n",
    "x = int(input(\"Masukan nilai x : \"))\n",
    "y = int(input(\"Masukan nilai y : \"))\n",
    "\n",
    "if x > 0 and y > 0 :\n",
    "    print(\"Koordinat (\"+ str(x) + \",\" + str(y) +\") berada pada kuadran I\")\n",
    "elif x < 0 and y > 0 :\n",
    "    print(\"Koordinat (\"+ str(x) + \",\" + str(y) +\") berada pada kuadran II\")\n",
    "elif x < 0 and y < 0 :\n",
    "    print(\"Koordinat (\"+ str(x) + \",\" + str(y) +\") berada pada kuadran III\")\n",
    "elif x > 0 and y < 0 :\n",
    "    print(\"Koordinat (\"+ str(x) + \",\" + str(y) +\") berada pada kuadran IV\")\n",
    "else :\n",
    "    pass"
   ]
  },
  {
   "cell_type": "code",
   "execution_count": 8,
   "id": "fab381fa",
   "metadata": {},
   "outputs": [
    {
     "name": "stdout",
     "output_type": "stream",
     "text": [
      "Masukan Nilai a : 4\n",
      "Masukan Nilai b : 2\n",
      "Masukan Nilai c : 3\n",
      "Nilai terbesar adalah :  4\n"
     ]
    }
   ],
   "source": [
    "#Mencari bilangan terbesar, dari 3 inputan (a , b dan c)\n",
    "\n",
    "nilai1 = int(input(\"Masukan Nilai a : \"))\n",
    "nilai2 = int(input(\"Masukan Nilai b : \"))\n",
    "nilai3 = int(input(\"Masukan Nilai c : \"))\n",
    "\n",
    "largest = nilai1 #dideklarasikan dulu nilai awal bila pakai if semua\n",
    "\n",
    "if nilai2 > largest:\n",
    "    largest = nilai2\n",
    "\n",
    "if nilai3 > largest:\n",
    "    largest = nilai3\n",
    "    \n",
    "print(\"Nilai terbesar adalah : \", largest)"
   ]
  },
  {
   "cell_type": "code",
   "execution_count": 10,
   "id": "ab0d1d94",
   "metadata": {},
   "outputs": [
    {
     "name": "stdout",
     "output_type": "stream",
     "text": [
      "Please input a best plant : Spathiphyllum\n",
      "Yes - Spathiphyllum is the best plant ever!\n"
     ]
    }
   ],
   "source": [
    "#Lab 3.1.1.10\n",
    "\n",
    "plant = input(\"Please input a best plant : \")\n",
    "\n",
    "if plant == \"Spathiphyllum\":\n",
    "    print(\"Yes - Spathiphyllum is the best plant ever!\")\n",
    "elif plant == \"spathiphyllum\":\n",
    "    print(\"No, I want a big Spathiphyllum\")\n",
    "else:\n",
    "    print(\"Spathiphyllum! Not(input)!\")"
   ]
  },
  {
   "cell_type": "code",
   "execution_count": 21,
   "id": "282b9e19",
   "metadata": {},
   "outputs": [
    {
     "name": "stdout",
     "output_type": "stream",
     "text": [
      "Enter the annual income : -100\n",
      "The tax is :  0.0 thalers\n"
     ]
    }
   ],
   "source": [
    "#Lab 3.1.1.11\n",
    "#Tax Calculator\n",
    "#masih ada kekurangan input angka 1000 haruse 0\n",
    "\n",
    "income = float(input(\"Enter the annual income : \"))\n",
    "\n",
    "tax = 0\n",
    "\n",
    "if income <= 85528:\n",
    "    tax = 0.18 * income - 556.2\n",
    "    if tax <= 0:\n",
    "        tax = 0.\n",
    "else:\n",
    "    tax = 14839.2 + 0.32 * (income - 85528)\n",
    "    \n",
    "tax = round(tax, 0)\n",
    "print(\"The tax is : \", tax, \"thalers\")"
   ]
  },
  {
   "cell_type": "code",
   "execution_count": null,
   "id": "d3ecae9f",
   "metadata": {},
   "outputs": [],
   "source": [
    "#Lab 3.1.1.12\n",
    "#input tahun\n",
    "\n",
    "thn = int(input(\"Input tahun : \"))\n",
    "\n",
    "if thn <= 1580:\n",
    "    print(\"Not within the gregorian calendar period\")\n",
    "else:\n",
    "    if thn % 4 !=0;\n",
    "    print(\"Common year\")\n",
    "    elif thn % 100 !=0:\n",
    "        print(\"Leap year\")\n",
    "    elif thn % 400 !=0:\n",
    "        print(\"Common year\")\n",
    "    else:\n",
    "        print(\"Leap year\")"
   ]
  },
  {
   "cell_type": "code",
   "execution_count": 1,
   "id": "6c3c2af6",
   "metadata": {},
   "outputs": [
    {
     "name": "stdout",
     "output_type": "stream",
     "text": [
      "Enter a number or type 0 to stop : 1\n",
      "Enter a number or type 0 to stop : 2\n",
      "Enter a number or type 0 to stop : 3\n",
      "Enter a number or type 0 to stop : 0\n",
      "Odd Numbers count :  2\n",
      "Even Numbers count :  1\n"
     ]
    }
   ],
   "source": [
    "#While\n",
    "#perlu deklarask statement awal\n",
    "\n",
    "#ganjil - genap \n",
    "\n",
    "oddNumbers = 0\n",
    "evenNumbers = 0\n",
    "\n",
    "number = int(input(\"Enter a number or type 0 to stop : \"))\n",
    "\n",
    "while number != 0:\n",
    "    if(number % 2 == 1):\n",
    "        oddNumbers +=  1\n",
    "    else:\n",
    "        evenNumbers += 1\n",
    "        \n",
    "    number = int(input(\"Enter a number or type 0 to stop : \"))\n",
    "    \n",
    "print(\"Odd Numbers count : \", oddNumbers)\n",
    "print(\"Even Numbers count : \", evenNumbers)"
   ]
  },
  {
   "cell_type": "code",
   "execution_count": null,
   "id": "cdbabce9",
   "metadata": {},
   "outputs": [],
   "source": [
    "secretNum = 777\n",
    "\n",
    "guessNum = 0\n",
    "\n",
    "while guessNum != secretNum:\n",
    "    guessNum = int(input(\"Input angka rahasia : \"))\n",
    "    if guessNum != secreetNum:\n",
    "        print(\"anda masih salah, coba lagi : \")\n",
    "...."
   ]
  },
  {
   "cell_type": "code",
   "execution_count": 5,
   "id": "e8aa6078",
   "metadata": {},
   "outputs": [
    {
     "name": "stdout",
     "output_type": "stream",
     "text": [
      "0\n",
      "1\n",
      "2\n",
      "3\n",
      "4\n"
     ]
    }
   ],
   "source": [
    "#Perulangan For\n",
    "\n",
    "for i in range(5):\n",
    "    print(i)"
   ]
  },
  {
   "cell_type": "code",
   "execution_count": 4,
   "id": "3b998ce6",
   "metadata": {},
   "outputs": [
    {
     "name": "stdout",
     "output_type": "stream",
     "text": [
      "2\n",
      "3\n",
      "4\n",
      "5\n",
      "6\n",
      "7\n"
     ]
    }
   ],
   "source": [
    "for i in range(2,8):\n",
    "    print(i)"
   ]
  },
  {
   "cell_type": "code",
   "execution_count": 6,
   "id": "b69d26ad",
   "metadata": {},
   "outputs": [
    {
     "name": "stdout",
     "output_type": "stream",
     "text": [
      "2\n",
      "5\n",
      "8\n"
     ]
    }
   ],
   "source": [
    "#misal for 3 nilai\n",
    "#2 nilai awal/start\n",
    "#3 sbg nilai lompatan\n",
    "#10 sbg end\n",
    "for i in range(2,10,3):\n",
    "    print(i)"
   ]
  },
  {
   "cell_type": "code",
   "execution_count": 7,
   "id": "7d47d7dd",
   "metadata": {},
   "outputs": [
    {
     "name": "stdout",
     "output_type": "stream",
     "text": [
      "0 1 2 3 4 5 6 7 Masih dalam perulangan\n"
     ]
    }
   ],
   "source": [
    "#Break\n",
    "\n",
    "for i in range(11):\n",
    "    print(i, end=\" \")\n",
    "    if i == 7:\n",
    "        print(\"Masih dalam perulangan\")\n",
    "        break"
   ]
  },
  {
   "cell_type": "code",
   "execution_count": 8,
   "id": "8246fd4d",
   "metadata": {},
   "outputs": [
    {
     "name": "stdout",
     "output_type": "stream",
     "text": [
      "1\t3\t5\t7\t9\t"
     ]
    }
   ],
   "source": [
    "#statement continue\n",
    "\n",
    "for i in range(1,11):\n",
    "    if i % 2 == 0:\n",
    "        continue\n",
    "    print(i, end=\"\\t\")"
   ]
  },
  {
   "cell_type": "code",
   "execution_count": 10,
   "id": "3e33811a",
   "metadata": {},
   "outputs": [
    {
     "name": "stdout",
     "output_type": "stream",
     "text": [
      "3\n"
     ]
    }
   ],
   "source": [
    "#List Dan Array\n",
    "\n",
    "var1 = 1\n",
    "var2 = 2\n",
    "var3 = 3\n",
    "\n",
    "#dengan list\n",
    "var = [1, 2, 3]\n",
    "print(var[2])"
   ]
  },
  {
   "cell_type": "code",
   "execution_count": 12,
   "id": "f3fefa84",
   "metadata": {},
   "outputs": [
    {
     "name": "stdout",
     "output_type": "stream",
     "text": [
      "[2, 3, 4, 5]\n",
      "4\n",
      "5\n"
     ]
    }
   ],
   "source": [
    "#Indexing List\n",
    "\n",
    "num = [2,3,4,5]\n",
    "\n",
    "print(num)\n",
    "print(num[2])\n",
    "print(num[-1])"
   ]
  },
  {
   "cell_type": "code",
   "execution_count": 20,
   "id": "9a06a02c",
   "metadata": {},
   "outputs": [
    {
     "name": "stdout",
     "output_type": "stream",
     "text": [
      "[2, 3]\n",
      "[4, 5, 6]\n",
      "[1, 2, 3]\n"
     ]
    }
   ],
   "source": [
    "#Slicing List\n",
    "\n",
    "lst=[1,2,3,4,5,6]\n",
    "print(lst[1:3])\n",
    "print(lst[-3:])\n",
    "print(lst[:-3])"
   ]
  },
  {
   "cell_type": "code",
   "execution_count": 21,
   "id": "35a795b2",
   "metadata": {},
   "outputs": [
    {
     "name": "stdout",
     "output_type": "stream",
     "text": [
      "[3, 2, 4]\n"
     ]
    }
   ],
   "source": [
    "#Swap\n",
    "\n",
    "num = [2, 3, 4]\n",
    "num[0], num[1] = num[1], num[0]\n",
    "print(num)"
   ]
  },
  {
   "cell_type": "code",
   "execution_count": 19,
   "id": "01057de6",
   "metadata": {},
   "outputs": [
    {
     "name": "stdout",
     "output_type": "stream",
     "text": [
      "['salak, apel, anggur', 'jeruk']\n"
     ]
    }
   ],
   "source": [
    "buah = [\"salak, apel, anggur\"]\n",
    "\n",
    "buah.append(\"jeruk\")\n",
    "\n",
    "print(buah)"
   ]
  },
  {
   "cell_type": "code",
   "execution_count": 37,
   "id": "09224960",
   "metadata": {},
   "outputs": [
    {
     "name": "stdout",
     "output_type": "stream",
     "text": [
      "['salak, apel, anggur', 'kiwi']\n"
     ]
    }
   ],
   "source": [
    "buah = [\"salak, apel, anggur\"]\n",
    "\n",
    "buah.insert(1,\"kiwi\")\n",
    "\n",
    "print(buah)"
   ]
  },
  {
   "cell_type": "code",
   "execution_count": 34,
   "id": "e88dca17",
   "metadata": {},
   "outputs": [
    {
     "name": "stdout",
     "output_type": "stream",
     "text": [
      "[5, 1, 3, 2, 10]\n",
      "[1, 2, 3, 5, 10]\n"
     ]
    }
   ],
   "source": [
    "#Method\n",
    "\n",
    "lst = [5, 1, 3, 2, 10]\n",
    "print(lst)\n",
    "\n",
    "lst = [5, 1, 3, 2, 10]\n",
    "lst.sort()\n",
    "print(lst)"
   ]
  },
  {
   "cell_type": "code",
   "execution_count": 39,
   "id": "e5646fc3",
   "metadata": {},
   "outputs": [
    {
     "name": "stdout",
     "output_type": "stream",
     "text": [
      "2\n",
      "[[3, 5, 1], [2, 3, 4], [4, 5, 6]]\n",
      "[3, 5, 1]\n",
      "5\n"
     ]
    }
   ],
   "source": [
    "#Array 2 dimensi\n",
    "\n",
    "i = [2,3,4,5]\n",
    "print(i[0])\n",
    "\n",
    "j = [[3,5,1],[2,3,4],[4,5,6]]\n",
    "print(j)\n",
    "\n",
    "print(j[0])\n",
    "print(j[0][1])\n"
   ]
  },
  {
   "cell_type": "code",
   "execution_count": null,
   "id": "4a2772fb",
   "metadata": {},
   "outputs": [],
   "source": [
    "#Hitung Blocks\n",
    "\n",
    "blocks = int(input(\"Enter the number of blocks: \"))\n",
    "current_block = 0\n",
    "height = 0\n",
    "\n",
    "while current_block < blocks:\n",
    "    current_block += 1\n",
    "    blocks -= current_block\n",
    "    height += 1\n",
    "\n",
    "print(\"The height of the pyramid:\", height)\n"
   ]
  },
  {
   "cell_type": "code",
   "execution_count": null,
   "id": "6dcb20f0",
   "metadata": {},
   "outputs": [],
   "source": [
    "#Lothar Collatz's Formula\n",
    "\n",
    "c0 = int(input(\"Enter a strictly positive integer: \"))\n",
    "steps = 0\n",
    "while c0 != 1:\n",
    "    if c0 % 2 == 0:\n",
    "        c0 = c0 / 2\n",
    "    elif c0 % 2 == 1: \n",
    "        c0 = (3*c0) + 1\n",
    "    steps += 1\n",
    "    print(int(c0))\n",
    "\n",
    "print (\"Step = \", steps)"
   ]
  },
  {
   "cell_type": "code",
   "execution_count": 18,
   "id": "f43f29f0",
   "metadata": {},
   "outputs": [
    {
     "name": "stdout",
     "output_type": "stream",
     "text": [
      "-1\n",
      "0\n",
      "1\n",
      "2\n",
      "3\n"
     ]
    }
   ],
   "source": [
    "n = range(4)\n",
    "for num in n:    \n",
    "    print(num - 1)\n",
    "else:\n",
    "    print(num)"
   ]
  },
  {
   "cell_type": "code",
   "execution_count": null,
   "id": "4e62a55a",
   "metadata": {},
   "outputs": [],
   "source": [
    "#Replace the middle number from list\n",
    "\n",
    "hat_list = [1, 2, 3, 4, 5]\n",
    "\n",
    "add = int(input(\"Masukkan nilai sisipan : \"))\n",
    "add = hat_list.insert(2, add)\n",
    "\n",
    "del hat_list[-1]\n",
    "\n",
    "print(\"The new length of the list is : \", len(hat_list))\n",
    "\n",
    "print(hat_list)\n"
   ]
  },
  {
   "cell_type": "code",
   "execution_count": null,
   "id": "4396823d",
   "metadata": {},
   "outputs": [],
   "source": [
    "#The Beatles List\n",
    "#step 1\n",
    "\n",
    "beatles = []\n",
    "\n",
    "print(beatles)\n",
    "\n",
    "# step 2\n",
    "\n",
    "beatles.append(\"John Lennon\")\n",
    "beatles.append(\"Paul McCartney\")\n",
    "beatles.append(\"George Harrison\")\n",
    "\n",
    "print(\"Step 2:\", beatles)\n",
    "\n",
    "# step 3\n",
    "\n",
    "for i in range(2):\n",
    "    member = input(\"next members : \")\n",
    "    beatles.append(member)\n",
    "\n",
    "print(\"Step 3:\", beatles)\n",
    "\n",
    "# step 4\n",
    "\n",
    "for i in range(2):\n",
    "    length = len(beatles)-1\n",
    "    del beatles [length]\n",
    "\n",
    "print(\"Step 4:\", beatles)\n",
    "\n",
    "# step 5\n",
    "\n",
    "beatles.insert(0, \"Ringo Starr\")\n",
    "print(\"Step 5:\", beatles)\n",
    "\n",
    "\n",
    "# testing list legth\n",
    "print(\"The Fab\", len(beatles))"
   ]
  },
  {
   "cell_type": "code",
   "execution_count": null,
   "id": "a7319b81",
   "metadata": {},
   "outputs": [],
   "source": [
    "#Find Unique number from list\n",
    "my_list = [1, 2, 4, 4, 1, 4, 2, 6, 2, 9]\n",
    "dumplist = []\n",
    "\n",
    "for i in my_list:\n",
    "    if i not in dumplist:\n",
    "        dumplist.append(i)\n",
    "\n",
    "my_list = dumplist\n",
    "\n",
    "print(\"The list with unique elements only:\")\n",
    "print(my_list)"
   ]
  },
  {
   "cell_type": "code",
   "execution_count": 60,
   "id": "af701b72",
   "metadata": {},
   "outputs": [
    {
     "name": "stdout",
     "output_type": "stream",
     "text": [
      "#\n",
      "#\n"
     ]
    }
   ],
   "source": [
    "for i in range(1):\n",
    "    print(\"#\")\n",
    "else:\n",
    "    print(\"#\")"
   ]
  }
 ],
 "metadata": {
  "kernelspec": {
   "display_name": "Python 3 (ipykernel)",
   "language": "python",
   "name": "python3"
  },
  "language_info": {
   "codemirror_mode": {
    "name": "ipython",
    "version": 3
   },
   "file_extension": ".py",
   "mimetype": "text/x-python",
   "name": "python",
   "nbconvert_exporter": "python",
   "pygments_lexer": "ipython3",
   "version": "3.9.12"
  }
 },
 "nbformat": 4,
 "nbformat_minor": 5
}
