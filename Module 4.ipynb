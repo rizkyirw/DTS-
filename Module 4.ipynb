{
 "cells": [
  {
   "cell_type": "markdown",
   "id": "2b322d4c",
   "metadata": {},
   "source": [
    "# Functions"
   ]
  },
  {
   "cell_type": "code",
   "execution_count": null,
   "id": "cf2565a9",
   "metadata": {},
   "outputs": [],
   "source": [
    "#Digunakan untuk memudahkan dan mempercepat proses pembuatan program\n",
    "\n",
    "#Fungsi dapat dituliskan secara umum sbb :\n",
    "def function_name():\n",
    "    function_body\n",
    "    ..."
   ]
  },
  {
   "cell_type": "code",
   "execution_count": 1,
   "id": "34f722d3",
   "metadata": {},
   "outputs": [
    {
     "name": "stdout",
     "output_type": "stream",
     "text": [
      "Enter your name: asep\n",
      "Hello, asep\n"
     ]
    }
   ],
   "source": [
    "#Contoh\n",
    "\n",
    "def hello(name):    # defining a function\n",
    "    print(\"Hello,\", name)    # body of the function\n",
    "\n",
    "\n",
    "name = input(\"Enter your name: \")\n",
    "\n",
    "hello(name)    # calling the function"
   ]
  },
  {
   "cell_type": "code",
   "execution_count": 2,
   "id": "871b31c0",
   "metadata": {},
   "outputs": [],
   "source": [
    "#Parameter Fungsi\n",
    "\n",
    "#Parameter sebenarnya variabel yang memiliki 2 faktor utama, yaitu :\n",
    "# 1. parameter hanya ada di dalam fungsi ditempat ia didefinisikan, yaitu didalam () pada statement def;\n",
    "# 2. menetapkan nilai ke parameter dilakukan pada saat pemanggilan fungsi, dengan menentukan argumen yang sesuai.\n",
    "\n",
    "#Secara umum parameter fungsi dituliskan sbb : \n",
    "def function(parameter):\n",
    "    ## Body ##"
   ]
  },
  {
   "cell_type": "code",
   "execution_count": 3,
   "id": "9f67f53b",
   "metadata": {},
   "outputs": [
    {
     "name": "stdout",
     "output_type": "stream",
     "text": [
      "Enter a number: 1\n"
     ]
    }
   ],
   "source": [
    "#Contoh \n",
    "def message(number):\n",
    "    print(\"Enter a number:\", number)\n",
    "message(1)"
   ]
  },
  {
   "cell_type": "code",
   "execution_count": 4,
   "id": "d5684898",
   "metadata": {},
   "outputs": [
    {
     "name": "stdout",
     "output_type": "stream",
     "text": [
      "Enter telephone number 11\n",
      "Enter price number 5\n",
      "Enter address number 7 , Manhattan, New York\n",
      "Enter number number number\n"
     ]
    }
   ],
   "source": [
    "#Parameter dapat dibuat lebih dari 1, contohnya \n",
    "\n",
    "def message(what, number):\n",
    "    print(\"Enter\", what, \"number\", number)\n",
    "\n",
    "# invoke the function\n",
    "message(\"telephone\", 11)\n",
    "message(\"price\", 5)\n",
    "message(\"address\", \"7 , Manhattan, New York\")\n",
    "message(\"number\", \"number\")"
   ]
  },
  {
   "cell_type": "code",
   "execution_count": 2,
   "id": "3f4190e5",
   "metadata": {},
   "outputs": [
    {
     "name": "stdout",
     "output_type": "stream",
     "text": [
      "Nama :  Isro Merk HP :  Redmi Note 9\n",
      "Nama :  Rizky Merk HP :  Samsung Note 9\n"
     ]
    }
   ],
   "source": [
    "def pesan(nama, hp):\n",
    "    print(\"Nama : \", nama, \"Merk HP : \", hp)\n",
    "\n",
    "pesan(\"Isro\",\"Redmi Note 9\")\n",
    "pesan(\"Rizky\",\"Samsung Note 9\")"
   ]
  },
  {
   "cell_type": "code",
   "execution_count": 4,
   "id": "7275300b",
   "metadata": {},
   "outputs": [
    {
     "name": "stdout",
     "output_type": "stream",
     "text": [
      "Isro 22.5\n"
     ]
    }
   ],
   "source": [
    "def tambahUsia(nama, usia):\n",
    "    usia = usia + 0.5\n",
    "    print(nama, usia)\n",
    "    \n",
    "tambahUsia(\"Isro\",22)"
   ]
  },
  {
   "cell_type": "code",
   "execution_count": null,
   "id": "b973fe9c",
   "metadata": {},
   "outputs": [],
   "source": [
    "#Parameter passing\n",
    "\n",
    "#Mengubah nilai dari parameter awal berdasarkan parameter akhir\n",
    "\n",
    "#Contoh 1\n",
    "def my_function(a, b, c):\n",
    "    print(a, b, c)\n",
    "\n",
    "my_function(1, 2, 3)\n",
    "\n",
    "#Contoh 2\n",
    "def introduction(first_name, last_name):\n",
    "    print(\"Hello, my name is\", first_name, last_name)\n",
    "\n",
    "introduction(\"Luke\", \"Skywalker\")\n",
    "introduction(\"Jesse\", \"Quick\")\n",
    "introduction(\"Clark\", \"Kent\")\n",
    "\n",
    "#Contoh 3\n",
    "def introduction(first_name, last_name):\n",
    "    print(\"Hello, my name is\", first_name, last_name)\n",
    "\n",
    "introduction(\"Skywalker\", \"Luke\")\n",
    "introduction(\"Quick\", \"Jesse\")\n",
    "introduction(\"Kent\", \"Clark\")\n"
   ]
  },
  {
   "cell_type": "code",
   "execution_count": 6,
   "id": "f3792449",
   "metadata": {},
   "outputs": [
    {
     "name": "stdout",
     "output_type": "stream",
     "text": [
      "Hello, my name is James Bond\n",
      "Hello, my name is Luke Skywalker\n"
     ]
    }
   ],
   "source": [
    "#Keyword argument passing\n",
    "#Mengambil nilai dari parameter\n",
    "\n",
    "def introduction(first_name, last_name):\n",
    "    print(\"Hello, my name is\", first_name, last_name)\n",
    "\n",
    "introduction(first_name = \"James\", last_name = \"Bond\")\n",
    "introduction(last_name = \"Skywalker\", first_name = \"Luke\")"
   ]
  },
  {
   "cell_type": "code",
   "execution_count": 7,
   "id": "48d98ea4",
   "metadata": {},
   "outputs": [
    {
     "name": "stdout",
     "output_type": "stream",
     "text": [
      "1 + 2 + 3 = 6\n",
      "2 + 3 + 1 = 6\n",
      "3 + 2 + 1 = 6\n",
      "4 + 3 + 2 = 9\n"
     ]
    }
   ],
   "source": [
    "def adding(a, b, c):\n",
    "    print(a, \"+\", b, \"+\", c, \"=\", a + b + c)\n",
    "\n",
    "adding(1, 2, 3)\n",
    "adding(c = 1, a = 2, b = 3)\n",
    "adding(3, c = 1, b = 2)\n",
    "adding(4, 3, c = 2)"
   ]
  },
  {
   "cell_type": "code",
   "execution_count": 12,
   "id": "8a5507e1",
   "metadata": {},
   "outputs": [
    {
     "name": "stdout",
     "output_type": "stream",
     "text": [
      "Hello, My Name is  Dwayne Johnson\n",
      "Hello, My Name is  Robert Jackson\n"
     ]
    }
   ],
   "source": [
    "#Default parameter\n",
    "\n",
    "def introduction(FName=\"Robert\", LName=\"Johnson\"):\n",
    "    print(\"Hello, My Name is \", FName, LName)\n",
    "    \n",
    "introduction(FName=\"Dwayne\")\n",
    "introduction(LName=\"Jackson\")"
   ]
  },
  {
   "cell_type": "code",
   "execution_count": null,
   "id": "5faf2c22",
   "metadata": {},
   "outputs": [],
   "source": [
    "#Default Parameter\n",
    "\n",
    "def introduction(first_name, last_name=\"Smith\"):\n",
    "    print(\"Hello, my name is\", first_name, last_name)\n",
    "\n",
    "introduction(first_name = \"Isro'\", last_name = \"Rizky Wibowo\")\n"
   ]
  },
  {
   "cell_type": "code",
   "execution_count": 16,
   "id": "3332a6c7",
   "metadata": {},
   "outputs": [
    {
     "name": "stdout",
     "output_type": "stream",
     "text": [
      "Hello, My Name is Dwayne Robert Johnson\n"
     ]
    }
   ],
   "source": [
    "#Default Parameter\n",
    "\n",
    "def introduction(FName, MName, LName ):\n",
    "    print(\"Hello, My Name is\", FName, MName, LName)\n",
    "    \n",
    "introduction(FName=\"Dwayne\", MName=\"Robert\", LName=\"Johnson\")"
   ]
  },
  {
   "cell_type": "markdown",
   "id": "6760a72d",
   "metadata": {},
   "source": [
    "## Function with return"
   ]
  },
  {
   "cell_type": "code",
   "execution_count": 21,
   "id": "248e3749",
   "metadata": {},
   "outputs": [
    {
     "name": "stdout",
     "output_type": "stream",
     "text": [
      "113.09733552923255\n",
      "25.0\n"
     ]
    }
   ],
   "source": [
    "def luasLingkaran(r):\n",
    "    import math\n",
    "    pi = math.pi\n",
    "    luas = pi * r * r\n",
    "    return luas\n",
    "\n",
    "def luasSegitiga(a, t):\n",
    "    luas = 0.5 * a * t\n",
    "    return luas\n",
    "\n",
    "x = luasLingkaran(6)\n",
    "y = luasSegitiga(5, 10)\n",
    "\n",
    "print(x)\n",
    "print(y)"
   ]
  },
  {
   "cell_type": "code",
   "execution_count": 24,
   "id": "7b8a215e",
   "metadata": {},
   "outputs": [
    {
     "name": "stdout",
     "output_type": "stream",
     "text": [
      "Halloo...\n",
      "123\n",
      "Test\n"
     ]
    }
   ],
   "source": [
    "def contohFungsi():\n",
    "    print(\"Halloo...\")\n",
    "    return 123\n",
    "\n",
    "z = contohFungsi()\n",
    "\n",
    "print(z)\n",
    "print(\"Test\")"
   ]
  },
  {
   "cell_type": "code",
   "execution_count": 26,
   "id": "ae603896",
   "metadata": {},
   "outputs": [
    {
     "name": "stdout",
     "output_type": "stream",
     "text": [
      "True\n",
      "None\n"
     ]
    }
   ],
   "source": [
    "def strangeFunction(n):\n",
    "    if(n % 2 == 0):\n",
    "        return True\n",
    "    \n",
    "print(strangeFunction(4))\n",
    "print(strangeFunction(3))"
   ]
  },
  {
   "cell_type": "code",
   "execution_count": 29,
   "id": "c4e4ae7d",
   "metadata": {},
   "outputs": [
    {
     "name": "stdout",
     "output_type": "stream",
     "text": [
      "20\n"
     ]
    }
   ],
   "source": [
    "def sumOfList(lst):\n",
    "    sum = 0\n",
    "    for elem in lst:\n",
    "        sum += elem\n",
    "    return sum\n",
    "x = sumOfList([2,2,2,2,2,2,2,2,2,2])\n",
    "print(x)"
   ]
  },
  {
   "cell_type": "code",
   "execution_count": 34,
   "id": "92646977",
   "metadata": {},
   "outputs": [
    {
     "name": "stdout",
     "output_type": "stream",
     "text": [
      "insert 0\n",
      "[0]\n",
      "Hasil :  [0]\n"
     ]
    }
   ],
   "source": [
    "#Strange List\n",
    "\n",
    "def strangeListFunction(n):\n",
    "    stList = []\n",
    "    \n",
    "    for i in range(0, n):\n",
    "        print(\"insert\",i)\n",
    "        stList.insert(0, i)\n",
    "        print(stList)\n",
    "        \n",
    "        return stList\n",
    "\n",
    "print(\"Hasil : \", strangeListFunction(10))"
   ]
  },
  {
   "cell_type": "code",
   "execution_count": 22,
   "id": "04dda8c8",
   "metadata": {},
   "outputs": [
    {
     "name": "stdout",
     "output_type": "stream",
     "text": [
      "Three...\n",
      "Two...\n",
      "One...\n",
      "Happy New Year!\n"
     ]
    }
   ],
   "source": [
    "#Result instruction\n",
    "#1. Result without expression\n",
    "#ketika digunakan didalam fungsi, dapat memberhentikan langsung eksekusi fungsi dan langsung mereturn ke titik pemanggilan\n",
    "\n",
    "def happy_new_year(wishes = True):\n",
    "    print(\"Three...\")\n",
    "    print(\"Two...\")\n",
    "    print(\"One...\")\n",
    "    if not wishes:\n",
    "        return\n",
    "\n",
    "    print(\"Happy New Year!\")\n",
    "    \n",
    "happy_new_year()"
   ]
  },
  {
   "cell_type": "code",
   "execution_count": 24,
   "id": "e6cdaf7f",
   "metadata": {},
   "outputs": [
    {
     "name": "stdout",
     "output_type": "stream",
     "text": [
      "The boring_function has returned its result. It's: 123\n",
      "This lesson is interesting!\n",
      "'Boredom Mode' ON.\n",
      "This lesson is boring...\n"
     ]
    }
   ],
   "source": [
    "#2. Result with expression\n",
    "#memberhentikan langsung eksekusi fungsi dan fungsi akan mengevaluasi nilai ekspresi dan akan mereturn sebagai hasil dari fungsi\n",
    "\n",
    "#Contoh 1\n",
    "def boring_function():\n",
    "    return 123\n",
    "\n",
    "x = boring_function()\n",
    "\n",
    "print(\"The boring_function has returned its result. It's:\", x)\n",
    "\n",
    "#Contoh 2\n",
    "def boring_function():\n",
    "    print(\"'Boredom Mode' ON.\")\n",
    "    return 123\n",
    "\n",
    "print(\"This lesson is interesting!\")\n",
    "boring_function()\n",
    "print(\"This lesson is boring...\")"
   ]
  },
  {
   "cell_type": "code",
   "execution_count": 30,
   "id": "be58c7c5",
   "metadata": {},
   "outputs": [
    {
     "name": "stdout",
     "output_type": "stream",
     "text": [
      "1900 ->OK\n",
      "2000 ->OK\n",
      "2016 ->OK\n",
      "1987 ->OK\n"
     ]
    }
   ],
   "source": [
    "#Leap Year Program\n",
    "\n",
    "def is_year_leap(year):\n",
    "    if year % 4 != 0 :\n",
    "        return False\n",
    "    elif year % 100 != 0:\n",
    "        return True\n",
    "    elif year % 400 != 0:\n",
    "        return False\n",
    "    else :\n",
    "        return True\n",
    "\n",
    "test_data = [1900, 2000, 2016, 1987]\n",
    "test_results = [False, True, True, False]\n",
    "for i in range(len(test_data)):\n",
    "    yr = test_data[i]\n",
    "    print(yr,\"->\",end=\"\")\n",
    "    result = is_year_leap(yr)\n",
    "    if result == test_results[i]:\n",
    "        print(\"OK\")\n",
    "    else:\n",
    "        print(\"Failed\")"
   ]
  },
  {
   "cell_type": "code",
   "execution_count": 33,
   "id": "e5fba902",
   "metadata": {},
   "outputs": [
    {
     "name": "stdout",
     "output_type": "stream",
     "text": [
      "1900 2 ->OK\n",
      "2000 2 ->OK\n",
      "2016 1 ->OK\n",
      "1987 11 ->OK\n"
     ]
    }
   ],
   "source": [
    "def is_year_leap(year):\n",
    "    if year % 4 != 0 :\n",
    "        return False\n",
    "    elif year % 100 != 0:\n",
    "        return True\n",
    "    elif year % 400 != 0:\n",
    "        return False\n",
    "    else :\n",
    "        return True\n",
    "\n",
    "def days_in_month(year, month):\n",
    "    days = [31, 28, 31, 30, 31, 30, 31, 31, 30, 31, 30, 31] # <- days in years every months\n",
    "    res = days[month - 1]\n",
    "    \n",
    "    if month > 12:\n",
    "        return None\n",
    "    elif is_year_leap(year) and month == 2: #Posisi bila tahun kabisat\n",
    "        return 29 \n",
    "    else:\n",
    "        return res\n",
    "\n",
    "test_years = [1900, 2000, 2016, 1987]\n",
    "test_months = [2, 2, 1, 11]\n",
    "test_results = [28, 29, 31, 30]\n",
    "for i in range(len(test_years)):\n",
    "    yr = test_years[i]\n",
    "    mo = test_months[i]\n",
    "    print(yr, mo, \"->\", end=\"\")\n",
    "    result = days_in_month(yr, mo)\n",
    "    if result == test_results[i]:\n",
    "        print(\"OK\")\n",
    "    else:\n",
    "        print(\"Failed\")\n"
   ]
  },
  {
   "cell_type": "markdown",
   "id": "37442509",
   "metadata": {},
   "source": [
    "## Scope in Function"
   ]
  },
  {
   "cell_type": "code",
   "execution_count": 37,
   "id": "55acf8f2",
   "metadata": {},
   "outputs": [
    {
     "name": "stdout",
     "output_type": "stream",
     "text": [
      "100\n",
      "200\n"
     ]
    }
   ],
   "source": [
    "def scopeTest():\n",
    "    print(a)\n",
    "    b = 200\n",
    "    print(b)\n",
    "    \n",
    "a = 100\n",
    "scopeTest()"
   ]
  },
  {
   "cell_type": "code",
   "execution_count": 38,
   "id": "d00630bf",
   "metadata": {},
   "outputs": [
    {
     "name": "stdout",
     "output_type": "stream",
     "text": [
      "Do i know that variable? 1\n",
      "1\n"
     ]
    }
   ],
   "source": [
    "def myFunction():\n",
    "    print(\"Do i know that variable?\", var)\n",
    "    \n",
    "var = 1\n",
    "myFunction()\n",
    "print(var)\n",
    "    "
   ]
  },
  {
   "cell_type": "code",
   "execution_count": 39,
   "id": "07e172ab",
   "metadata": {},
   "outputs": [
    {
     "name": "stdout",
     "output_type": "stream",
     "text": [
      "Do i know that variable? 2\n",
      "2\n"
     ]
    }
   ],
   "source": [
    "def myFunction():\n",
    "    global var\n",
    "    var = 2\n",
    "    print(\"Do i know that variable?\", var)\n",
    "    \n",
    "var = 1\n",
    "myFunction()\n",
    "print(var)"
   ]
  },
  {
   "cell_type": "code",
   "execution_count": 58,
   "id": "26ca891c",
   "metadata": {},
   "outputs": [
    {
     "name": "stdout",
     "output_type": "stream",
     "text": [
      "21.513858510523864\n"
     ]
    }
   ],
   "source": [
    "# Some Function Example\n",
    "#BMI (Body, Mass, Index)\n",
    "\n",
    "def bmi(weight, height):\n",
    "    return weight / height ** 2\n",
    "\n",
    "print(bmi(60, 1.67))"
   ]
  },
  {
   "cell_type": "code",
   "execution_count": 42,
   "id": "753df53c",
   "metadata": {},
   "outputs": [
    {
     "name": "stdout",
     "output_type": "stream",
     "text": [
      "True\n",
      "True\n",
      "False\n"
     ]
    }
   ],
   "source": [
    "#Segitiga\n",
    "\n",
    "def isItTriangle(a, b, c):\n",
    "    if a + b <= c:\n",
    "        return False\n",
    "    if b + c <= a:\n",
    "        return False\n",
    "    if c + a <= b:\n",
    "        return False\n",
    "    \n",
    "    return True\n",
    "\n",
    "print(isItTriangle(1,1,1))\n",
    "print(isItTriangle(3,4,5))\n",
    "print(isItTriangle(2,1,5))"
   ]
  },
  {
   "cell_type": "code",
   "execution_count": 46,
   "id": "39d097ad",
   "metadata": {},
   "outputs": [
    {
     "name": "stdout",
     "output_type": "stream",
     "text": [
      "1 1\n",
      "2 2\n",
      "3 6\n",
      "4 24\n",
      "5 120\n",
      "6 720\n",
      "7 5040\n",
      "8 40320\n",
      "9 362880\n",
      "10 3628800\n",
      "11 39916800\n",
      "12 479001600\n",
      "13 6227020800\n",
      "14 87178291200\n"
     ]
    }
   ],
   "source": [
    "#Faktorial\n",
    "\n",
    "def factorialFun(a):\n",
    "    if a < 0 :\n",
    "        return None\n",
    "    if a < 2 :\n",
    "        return 1\n",
    "    \n",
    "    product = 1\n",
    "    for i in range(2, a + 1):\n",
    "        product *= i\n",
    "    return product\n",
    "\n",
    "for a in range(1, 15):\n",
    "    print(a, factorialFun(a))"
   ]
  },
  {
   "cell_type": "code",
   "execution_count": 60,
   "id": "dc3e1afd",
   "metadata": {},
   "outputs": [
    {
     "name": "stdout",
     "output_type": "stream",
     "text": [
      "1 > 1\n",
      "2 > 1\n",
      "3 > 2\n",
      "4 > 3\n",
      "5 > 5\n",
      "6 > 8\n",
      "7 > 13\n",
      "8 > 21\n",
      "9 > 34\n"
     ]
    }
   ],
   "source": [
    "#Fibonacci\n",
    "\n",
    "def fib(n):\n",
    "    if n < 1:\n",
    "         return None\n",
    "    if n < 3:\n",
    "        return 1\n",
    "\n",
    "    elem1 = elem2 = 1\n",
    "    sum = 0\n",
    "    for i in range (3, n + 1):\n",
    "        sum = elem1 + elem2\n",
    "        elem1, elem2 = elem2, sum\n",
    "    return sum\n",
    "\n",
    "#Call the Function here\n",
    "for n in range(1, 10): #testing\n",
    "    print(n, \">\", fib(n))"
   ]
  },
  {
   "cell_type": "code",
   "execution_count": 61,
   "id": "69c4e395",
   "metadata": {},
   "outputs": [
    {
     "name": "stdout",
     "output_type": "stream",
     "text": [
      "1 > 1\n",
      "2 > 1\n",
      "3 > 2\n",
      "4 > 3\n",
      "5 > 5\n",
      "6 > 8\n",
      "7 > 13\n",
      "8 > 21\n",
      "9 > 34\n"
     ]
    }
   ],
   "source": [
    "#Recursion\n",
    "#memanggil fungsi didalam fungsi\n",
    "\n",
    "#recursion 1\n",
    "def fib(n):\n",
    "    if n < 1:\n",
    "        return None\n",
    "    if n < 3:\n",
    "        return 1\n",
    "    return fib(n - 1) + fib(n - 2)\n",
    "\n",
    "for n in range(1, 10): # testing\n",
    "    print(n, \">\", fib(n))\n",
    "\n",
    "#recursion 2\n",
    "    \n",
    "# def fun(a):\n",
    "#     if a > 30:\n",
    "#         return 3\n",
    "#     else:\n",
    "#         return a + fun(a + 3)\n",
    "\n",
    "\n",
    "# print(fun(25))"
   ]
  },
  {
   "cell_type": "code",
   "execution_count": 55,
   "id": "5c389f76",
   "metadata": {},
   "outputs": [
    {
     "name": "stdout",
     "output_type": "stream",
     "text": [
      "ibu pergi pasar bapak\n"
     ]
    }
   ],
   "source": [
    "#Stop Word Removal\n",
    "\n",
    "kalimat = \"Ibu pergi ke pasar dengan bapak\"\n",
    "stopw = ['ke', 'dengan', 'saya', 'dia']\n",
    "\n",
    "def removeStop(sentence):\n",
    "    words = [word for word in sentence.split() if word not in stopw]\n",
    "    \n",
    "    return ' '.join(words)\n",
    "\n",
    "kalimat_stop = removeStop(kalimat.lower())\n",
    "print(kalimat_stop)"
   ]
  },
  {
   "cell_type": "markdown",
   "id": "5044fccf",
   "metadata": {},
   "source": [
    "# #Tuples and Dictionaries"
   ]
  },
  {
   "cell_type": "code",
   "execution_count": null,
   "id": "77b1781c",
   "metadata": {},
   "outputs": [],
   "source": [
    "#Penjelasan"
   ]
  },
  {
   "cell_type": "code",
   "execution_count": null,
   "id": "bea582f2",
   "metadata": {},
   "outputs": [],
   "source": [
    "myTuple = (1, 2, True, \"a string\", (3, 4), [5, 6], None)\n",
    "#Print Function here\n",
    "print(myTuple)\n",
    "\n",
    "myList = [1, 2, True, \"a string\", (3, 4), [5, 6], None]\n",
    "#Print Function here\n",
    "print(myList)"
   ]
  },
  {
   "cell_type": "markdown",
   "id": "a1e8af69",
   "metadata": {},
   "source": [
    "### Dictionaries"
   ]
  },
  {
   "cell_type": "code",
   "execution_count": 53,
   "id": "a648cb0b",
   "metadata": {},
   "outputs": [],
   "source": [
    "#penjelasan"
   ]
  },
  {
   "cell_type": "code",
   "execution_count": 56,
   "id": "220a7186",
   "metadata": {},
   "outputs": [
    {
     "name": "stdout",
     "output_type": "stream",
     "text": [
      "\n",
      "{'boss': 5551234567, 'Suzy': [22657854310, 52852352]}\n",
      "{}\n"
     ]
    }
   ],
   "source": [
    "kamus = {\"cat\" : \"chat\", \"dog\" : \"chien\", \"horse\" : \"cheval\"}\n",
    "phoneNumbers = {'boss' : 5551234567, 'Suzy' : [22657854310,52852352]}\n",
    "emptyDictionary = {}\n",
    "\n",
    "print()\n",
    "print(phoneNumbers)\n",
    "print(emptyDictionary)"
   ]
  },
  {
   "cell_type": "code",
   "execution_count": 57,
   "id": "6dc0927e",
   "metadata": {},
   "outputs": [
    {
     "name": "stdout",
     "output_type": "stream",
     "text": [
      "chat\n",
      "[22657854310, 52852352]\n",
      "22657854310\n"
     ]
    }
   ],
   "source": [
    "print(kamus['cat'])\n",
    "print(phoneNumbers['Suzy'])\n",
    "print(phoneNumbers['Suzy'][0])"
   ]
  }
 ],
 "metadata": {
  "kernelspec": {
   "display_name": "Python 3 (ipykernel)",
   "language": "python",
   "name": "python3"
  },
  "language_info": {
   "codemirror_mode": {
    "name": "ipython",
    "version": 3
   },
   "file_extension": ".py",
   "mimetype": "text/x-python",
   "name": "python",
   "nbconvert_exporter": "python",
   "pygments_lexer": "ipython3",
   "version": "3.9.12"
  }
 },
 "nbformat": 4,
 "nbformat_minor": 5
}
