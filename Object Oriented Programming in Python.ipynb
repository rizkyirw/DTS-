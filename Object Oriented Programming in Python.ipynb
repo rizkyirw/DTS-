{
 "cells": [
  {
   "cell_type": "markdown",
   "id": "672d3797",
   "metadata": {},
   "source": [
    "# Object Oriented Programming In Python\n",
    "\n",
    "Python merupakan bahasa multi purpose dan multi paradigm, artinya python dapat men support berbagai macam pendekatan pemrograman.\n",
    "\n",
    "Objek memiliki dua karakteristik :\n",
    "    1. attributes\n",
    "    2. behaviour\n",
    "\n",
    "Contoh :\n",
    "Parrot (burung beo) adalah objek,\n",
    "name, age, color (nama, usia, warna) adalah atributnya singing, dancing (menyanyi, menari) adalah behaviournya.\n",
    "\n",
    "Konsep OOP ini berfokus dalam pembuatan kode yang reusable (dapat digunakan kembali). Konsep ini dikenal juga dengan DRY (Don't Repeat Yourself).\n",
    "\n",
    "Konsep OOP memiliki beberapa prinsip dasar :\n",
    "\n",
    "    1. Inheritance : proses dalam menggunakan atribut dan behaviour dari class yang telah ada sebelumnya.\n",
    "    2. Encapsulation : menyembunyikan atribut dan behaviour yang bersifat private dari class lainnya.\n",
    "    3. Polymorphism : konsep untuk menggunakan operasi yang sama dengan cara yang berbeda pada class lain."
   ]
  },
  {
   "cell_type": "markdown",
   "id": "a7c00d4e",
   "metadata": {},
   "source": [
    "# Class\n",
    "\n",
    "Class adalah sebuah blueprint pada objek.\n",
    "\n",
    "Untuk membuat class parrot yang sederhana, dapat kita tuliskan kode :\n",
    "       class Parrot :\n",
    "       \n",
    "Kata kunci class diikuti dengan Parrot mendefinisikan blueprint dari class parrot. Blueprint ini nantinya akan direalisasikan dalam sebuah instance."
   ]
  },
  {
   "cell_type": "markdown",
   "id": "f7ca362a",
   "metadata": {},
   "source": [
    "# Object / Instance\n",
    "\n",
    "Sebuah objek (Instance) adalah perwujudan dari sebuah class.\n",
    "\n",
    "Contoh dari membuat objek :\n",
    "\n",
    "    papi = Parrot()\n",
    "Disini, papi adalah perwujudan Parrot"
   ]
  },
  {
   "cell_type": "code",
   "execution_count": 1,
   "id": "491f1464",
   "metadata": {},
   "outputs": [
    {
     "name": "stdout",
     "output_type": "stream",
     "text": [
      "Papi is a Bird\n",
      "Bejo is a Bird\n",
      "Papi is 3 years old\n",
      "Bejo is 2 years old\n"
     ]
    }
   ],
   "source": [
    "class Parrot:\n",
    "    #class attribute\n",
    "    species = \"Bird\"\n",
    "    \n",
    "    #instance attribute\n",
    "    #constructor\n",
    "    def __init__(self, name, age): #<-- Init main function dari class\n",
    "        self.name = name\n",
    "        self.age = age\n",
    "        \n",
    "#Instantiate the parrot class\n",
    "papi = Parrot(\"Papi\", 3)\n",
    "bejo = Parrot(\"Bejo\", 2)\n",
    "\n",
    "# Access the class attribute\n",
    "print(\"Papi is a \" + papi.species)\n",
    "print(\"Bejo is a \" + bejo.species)\n",
    "\n",
    "# Acess the instance attribute\n",
    "print(papi.name + \" is \"+str(papi.age) + \" years old\")\n",
    "print(bejo.name + \" is \"+str(bejo.age) + \" years old\")"
   ]
  },
  {
   "cell_type": "markdown",
   "id": "058b6186",
   "metadata": {},
   "source": [
    "#### Buatlah sebuah Objek bernama Siswa\n",
    "\n",
    "yang memiliki atribut:\n",
    "\n",
    "- nis\n",
    "- nama\n",
    "- alamat\n",
    "- daftar mata pelajaran diambil\n",
    "- daftar nilai dari mata pelajaran tersebut\n",
    "- atribut ini di deklarasikan di konstruktor.\n",
    "\n",
    "Buatlah method untuk:\n",
    "\n",
    "- Menampilkan detail siswa (tampilkan())\n",
    "- Mengisikan data ke mapel dan n dengan method tambahNilai(mapel,n)\n",
    "- Menampilkan mata_pelajaran dan nilainya dengan method tampilkanNilai()\n",
    "- Menampilkan rata-rata nilai dengan method tampilkanRataNilai()"
   ]
  },
  {
   "cell_type": "code",
   "execution_count": 2,
   "id": "b71c6c99",
   "metadata": {},
   "outputs": [
    {
     "name": "stdout",
     "output_type": "stream",
     "text": [
      "007 Isro' Wibowo Blora\n",
      "1 Python 1 100\n",
      "2 Big Data 100\n",
      "123 Rizky John Semarang\n",
      "1 Python 1 90\n",
      "2 Deep Learning 100\n"
     ]
    }
   ],
   "source": [
    "class Siswa:\n",
    "    \n",
    "    def __init__(self, nis, nama, alamat): #General\n",
    "        self.nis = nis\n",
    "        self.nama = nama\n",
    "        self.alamat = alamat\n",
    "        self.__mata_pelajaran = []\n",
    "        self.__nilai = []\n",
    "    \n",
    "    def tampilkan(self):\n",
    "        print(self.nis, self.nama, self.alamat)\n",
    "        \n",
    "    def tambahNilai(self, mapel, n):\n",
    "        self.__mata_pelajaran.append(mapel)\n",
    "        self.__nilai.append(n)\n",
    "    \n",
    "    def tampilkanNilai(self):\n",
    "        for i, j in enumerate(self.__mata_pelajaran):\n",
    "            print(i+1, self.__mata_pelajaran[i], self.__nilai[i])\n",
    "        \n",
    "isro = Siswa(\"007\", \"Isro' Wibowo\", \"Blora\")\n",
    "rizky = Siswa(\"123\", \"Rizky John\", \"Semarang\")\n",
    "\n",
    "isro.tambahNilai(\"Python 1\", 100)\n",
    "isro.tambahNilai(\"Big Data\", 100)\n",
    "rizky.tambahNilai(\"Python 1\", 90)\n",
    "rizky.tambahNilai(\"Deep Learning\", 100)\n",
    "\n",
    "isro.tampilkan()\n",
    "isro.tampilkanNilai()\n",
    "rizky.tampilkan()\n",
    "rizky.tampilkanNilai()"
   ]
  },
  {
   "cell_type": "markdown",
   "id": "95b87bd8",
   "metadata": {},
   "source": [
    "# Methods\n",
    "\n",
    "Methods adalah function yang didefinisikan dalam sebuah class. Function ini seharusnya mendefinisikan behavior dari objeknya."
   ]
  },
  {
   "cell_type": "code",
   "execution_count": 3,
   "id": "f28b64ed",
   "metadata": {},
   "outputs": [
    {
     "name": "stdout",
     "output_type": "stream",
     "text": [
      "Papi sing 'halo halo bandung'\n",
      "is now dancing \n"
     ]
    }
   ],
   "source": [
    "class Parrot:\n",
    "    \n",
    "    #instance attribute\n",
    "    def __init__(self, name, age):\n",
    "        self.name = name\n",
    "        self.age = age\n",
    "        \n",
    "    #instance method\n",
    "    def sing(self, song):\n",
    "        return \"{} sing {}\".format(self.name, song)\n",
    "    \n",
    "    def dance(self):\n",
    "        return \"is now dancing \".format(self.name)\n",
    "    \n",
    "#Instantiate the parrot class\n",
    "papi = Parrot(\"Papi\", 3)\n",
    "bejo = Parrot(\"Bejo\", 2)\n",
    "\n",
    "#call our instance methods\n",
    "print(papi.sing(\"'halo halo bandung'\"))\n",
    "print(papi.dance())"
   ]
  },
  {
   "cell_type": "markdown",
   "id": "a7942b97",
   "metadata": {},
   "source": [
    "Dalam program diatas, kita mendefinisikan dua method yaitu sing dan dance. Mereka adalah instance method yang dipanggil pada instance objek yaitu papi."
   ]
  },
  {
   "cell_type": "markdown",
   "id": "413a56b6",
   "metadata": {},
   "source": [
    "# Inheritance / Pewarisan\n",
    "\n",
    "Cara untuk membuat class baru dengan menggunakan detail dari kelas lainnya. Kelas baru ini akan mewariskan atribut serta method yang sudah didefinisikan dari class utamanya. Kelas baru ini sering disebut juga child class dan kelas lainnya sering disebut juga parent class."
   ]
  },
  {
   "cell_type": "code",
   "execution_count": 4,
   "id": "c4a3fcfd",
   "metadata": {},
   "outputs": [
    {
     "name": "stdout",
     "output_type": "stream",
     "text": [
      "Bird is ready\n",
      "Penguin is ready\n",
      "Penguin\n",
      "Swim Faster\n",
      "Run Faster\n"
     ]
    }
   ],
   "source": [
    "#Parent\n",
    "class Bird:\n",
    "    \n",
    "    def __init__(self):\n",
    "        print(\"Bird is ready\")\n",
    "    \n",
    "    def whoIsThis(self):\n",
    "        print(\"Bird\")\n",
    "        \n",
    "    def swim(self):\n",
    "        print(\"Swim Faster\")\n",
    "        \n",
    "#Child\n",
    "class Penguin(Bird):\n",
    "    \n",
    "    def __init__(self):\n",
    "        super().__init__()\n",
    "        print(\"Penguin is ready\")\n",
    "        \n",
    "    def whoIsThis(self):\n",
    "        print(\"Penguin\")\n",
    "        \n",
    "    def run(self):\n",
    "        print(\"Run Faster\")\n",
    "        \n",
    "pingu = Penguin()\n",
    "pingu.whoIsThis()\n",
    "pingu.swim()\n",
    "pingu.run()"
   ]
  },
  {
   "cell_type": "markdown",
   "id": "a959dbe3",
   "metadata": {},
   "source": [
    "#### The code outputs:\n",
    "My name is Andy.\n",
    "\n",
    "Note: As there is no __str__() method within the Sub class, the printed string is to be produced within the Super class. This means that the __str__() method has been inherited by the Sub class. "
   ]
  },
  {
   "cell_type": "code",
   "execution_count": 5,
   "id": "11726aa1",
   "metadata": {},
   "outputs": [
    {
     "name": "stdout",
     "output_type": "stream",
     "text": [
      "My Name is Isro.\n"
     ]
    }
   ],
   "source": [
    "class Super:\n",
    "    def __init__(self, name):\n",
    "        self.name = name\n",
    "        \n",
    "    def __str__(self):\n",
    "        return \"My Name is \"+ self.name + \".\"\n",
    "    \n",
    "class Sub(Super):\n",
    "    def __init__(self, name):\n",
    "        Super.__init__(self, name)\n",
    "        \n",
    "obj = Sub(\"Isro\")\n",
    "print(obj)"
   ]
  },
  {
   "cell_type": "markdown",
   "id": "234722bb",
   "metadata": {},
   "source": [
    "# Encapsulation\n",
    "\n",
    "Kita dapat membatasi akses atribut dan method dalam sebuah kelas dengan memanfaatkan sifat private yang didefinisikan dengan garis bawah atau underscore single _ atau double __"
   ]
  },
  {
   "cell_type": "code",
   "execution_count": 6,
   "id": "f204b728",
   "metadata": {},
   "outputs": [
    {
     "name": "stdout",
     "output_type": "stream",
     "text": [
      "Selling Price : 900\n",
      "Selling Price : 900\n",
      "Selling Price : 1000\n"
     ]
    }
   ],
   "source": [
    "class Computer:\n",
    "    \n",
    "    def __init__(self):\n",
    "        self.__maxprice = 900\n",
    "        \n",
    "    def sell(self):\n",
    "        print(\"Selling Price : {}\".format(self.__maxprice))\n",
    "        \n",
    "    def setMaxPrice(self, price):\n",
    "        self.__maxprice = price\n",
    "        \n",
    "c = Computer()\n",
    "c.sell()\n",
    "\n",
    "#change the price\n",
    "c.__maxprice = 1000\n",
    "c.sell()\n",
    "\n",
    "#using setter function\n",
    "c.setMaxPrice(1000)\n",
    "c.sell()"
   ]
  },
  {
   "cell_type": "markdown",
   "id": "2a85ece4",
   "metadata": {},
   "source": [
    "Pada program diatas, atribut saldo bersifat private karena kita memberikan underscore __maxprice. Oleh karena itu, kita tidak bisa meruba nya secara langsung seperti dengan sintaks c.__maxprice = 1000. Pada umumnya, atribut private ini dapat kita rubah dengan melewatkan pada sebuah method yang publik. Dalam hal ini method tersebut adalah setMaxPrice()"
   ]
  },
  {
   "cell_type": "markdown",
   "id": "a3658233",
   "metadata": {},
   "source": [
    "# Polymorphism\n",
    "\n",
    "Konsep untuk menggunakan operasi yang sama dengan cara yang berbeda pada class lain.\n",
    "\n",
    "Misalkan, kita perlu mewarnai sebuah bentuk. ada beberapa pilihan bentuk (persegi, segitiga, lingkaran). Namun kita dapat menggunakan method yang sama untuk mewarnai bentuk apapun."
   ]
  },
  {
   "cell_type": "code",
   "execution_count": 7,
   "id": "d9b7c387",
   "metadata": {},
   "outputs": [
    {
     "name": "stdout",
     "output_type": "stream",
     "text": [
      "Parrot can Fly\n",
      "Penguin can't Fly\n"
     ]
    }
   ],
   "source": [
    "class Parrot:\n",
    "    \n",
    "    def fly(self):\n",
    "        print(\"Parrot can Fly\")\n",
    "        \n",
    "    def swim(self):\n",
    "        print(\"Parrot can't Swim\")\n",
    "        \n",
    "class Penguin:\n",
    "    \n",
    "    def fly(self):\n",
    "        print(\"Penguin can't Fly\")\n",
    "    \n",
    "    def swim(self):\n",
    "        print(\"Penguin can Swim\")\n",
    "        \n",
    "#common interface\n",
    "def flying_test(bird):\n",
    "    bird.fly()\n",
    "    \n",
    "#instantiate object\n",
    "blu = Parrot()\n",
    "pingu = Penguin()\n",
    "\n",
    "#passing the object\n",
    "flying_test(blu)\n",
    "flying_test(pingu)"
   ]
  },
  {
   "cell_type": "markdown",
   "id": "f61d5cf4",
   "metadata": {},
   "source": [
    "Dalam program di atas, didefinisikan dua kelas: Parrot dan Penguin. Masing-masing memiliki metode fly() yang sama. tapi dengan fungsi yang berbeda.\n",
    "\n",
    "Untuk menggunakan Polymorphism, dibuatkan antarmuka umum yaitu fungsi flying_test() yang mengambil objek apa pun dan memanggil metode fly() objek. Jadi, ketika objek blu dan pingu dipanggail dalam fungsi flying_test(), akan berjalan secara efektif."
   ]
  },
  {
   "cell_type": "code",
   "execution_count": 8,
   "id": "c5a18a25",
   "metadata": {},
   "outputs": [
    {
     "name": "stdout",
     "output_type": "stream",
     "text": [
      "1\n",
      "2\n",
      "3\n"
     ]
    }
   ],
   "source": [
    "#Contoh Program Stack\n",
    "\n",
    "stack = []\n",
    "\n",
    "def push(val):\n",
    "    stack.append(val)\n",
    "\n",
    "\n",
    "def pop():\n",
    "    val = stack[-1]\n",
    "    del stack[-1]\n",
    "    return val\n",
    "\n",
    "push(3)\n",
    "push(2)\n",
    "push(1)\n",
    "\n",
    "print(pop())\n",
    "print(pop())\n",
    "print(pop())"
   ]
  },
  {
   "cell_type": "code",
   "execution_count": 9,
   "id": "e5e1bd14",
   "metadata": {},
   "outputs": [
    {
     "name": "stdout",
     "output_type": "stream",
     "text": [
      "0\n"
     ]
    }
   ],
   "source": [
    "class Stack:\n",
    "    def __init__(self):\n",
    "        self.stackList = []\n",
    "\n",
    "stackObject = Stack()\n",
    "print(len(stackObject.stackList))"
   ]
  },
  {
   "cell_type": "code",
   "execution_count": 10,
   "id": "137e1e53",
   "metadata": {},
   "outputs": [],
   "source": [
    "class Stack:\n",
    "    def __init__(self):\n",
    "        self.__stackList = [] # __ membuat private\n",
    "\n",
    "stackObject = Stack()\n",
    "#print(len(stackObject.__stackList))"
   ]
  },
  {
   "cell_type": "code",
   "execution_count": 11,
   "id": "66d24de5",
   "metadata": {},
   "outputs": [
    {
     "name": "stdout",
     "output_type": "stream",
     "text": [
      "1\n",
      "2\n",
      "3\n"
     ]
    }
   ],
   "source": [
    "class Stack:\n",
    "    def __init__(self):\n",
    "        self.__stackList = []\n",
    "\n",
    "    def push(self, val):\n",
    "        self.__stackList.append(val)\n",
    "\n",
    "    def pop(self):\n",
    "        val = self.__stackList[-1]\n",
    "        del self.__stackList[-1]\n",
    "        return val\n",
    "\n",
    "\n",
    "stackObject = Stack()\n",
    "\n",
    "stackObject.push(3)\n",
    "stackObject.push(2)\n",
    "stackObject.push(1)\n",
    "\n",
    "print(stackObject.pop())\n",
    "print(stackObject.pop())\n",
    "print(stackObject.pop())"
   ]
  },
  {
   "cell_type": "code",
   "execution_count": 12,
   "id": "d494c5f2",
   "metadata": {},
   "outputs": [
    {
     "name": "stdout",
     "output_type": "stream",
     "text": [
      "0\n"
     ]
    }
   ],
   "source": [
    "class Stack:\n",
    "    def __init__(self):\n",
    "        self.__stackList = []\n",
    "\n",
    "    def push(self, val):\n",
    "        self.__stackList.append(val)\n",
    "\n",
    "    def pop(self):\n",
    "        val = self.__stackList[-1]\n",
    "        del self.__stackList[-1]\n",
    "        return val\n",
    "\n",
    "littleStack = Stack()\n",
    "anotherStack = Stack()\n",
    "funnyStack = Stack()\n",
    "\n",
    "littleStack.push(1)\n",
    "anotherStack.push(littleStack.pop() + 1)\n",
    "funnyStack.push(anotherStack.pop() - 2)\n",
    "\n",
    "print(funnyStack.pop())"
   ]
  },
  {
   "cell_type": "code",
   "execution_count": 13,
   "id": "a45ec891",
   "metadata": {},
   "outputs": [
    {
     "name": "stdout",
     "output_type": "stream",
     "text": [
      "10\n",
      "4\n",
      "3\n",
      "2\n",
      "1\n",
      "0\n"
     ]
    }
   ],
   "source": [
    "class Stack:\n",
    "    def __init__(self):\n",
    "        self.__stackList = []\n",
    "\n",
    "    def push(self, val):\n",
    "        self.__stackList.append(val)\n",
    "\n",
    "    def pop(self):\n",
    "        val = self.__stackList[-1]\n",
    "        del self.__stackList[-1]\n",
    "        return val\n",
    "\n",
    "\n",
    "class AddingStack(Stack):\n",
    "    def __init__(self):\n",
    "        Stack.__init__(self)\n",
    "        self.__sum = 0\n",
    "\n",
    "    def getSum(self):\n",
    "        return self.__sum\n",
    "\n",
    "    def push(self, val):\n",
    "        self.__sum += val\n",
    "        Stack.push(self, val)\n",
    "\n",
    "    def pop(self):\n",
    "        val = Stack.pop(self)\n",
    "        self.__sum -= val\n",
    "        return val\n",
    "\n",
    "\n",
    "stackObject = AddingStack()\n",
    "\n",
    "for i in range(5):\n",
    "    stackObject.push(i)\n",
    "print(stackObject.getSum())\n",
    "\n",
    "for i in range(5):\n",
    "    print(stackObject.pop())"
   ]
  },
  {
   "cell_type": "code",
   "execution_count": 14,
   "id": "b7ad0793",
   "metadata": {},
   "outputs": [
    {
     "name": "stdout",
     "output_type": "stream",
     "text": [
      "Guntur\n",
      "Guntur\n",
      "Matematika 90\n",
      "Biologi 80\n"
     ]
    }
   ],
   "source": [
    "#Contoh Program Lain\n",
    "\n",
    "class Siswa:\n",
    "    #class atribut\n",
    "    __jmlMapel = 0\n",
    "    __mapel = []\n",
    "    __nilai = []\n",
    "\n",
    "    def __init__(self, nama, alamat):\n",
    "        self.nama = nama\n",
    "        self.alamat = alamat\n",
    "        \n",
    "    def getNama(self):\n",
    "        return self.nama\n",
    "    \n",
    "    def tambahNilaiMapel(self,mapel,nilai):\n",
    "        self.__mapel.append(mapel)\n",
    "        self.__nilai.append(nilai)\n",
    "        \n",
    "    def cetakNilai(self):\n",
    "        for i,j in enumerate(self.__mapel):\n",
    "            print(self.__mapel[i], self.__nilai[i])\n",
    "    \n",
    "    \n",
    "s = Siswa(\"Guntur\",\"Jogja\")\n",
    "print(s.nama) # boleh karena publik\n",
    "print(s.getNama()) # bisa juga\n",
    "s.tambahNilaiMapel(\"Matematika\",90)\n",
    "s.tambahNilaiMapel(\"Biologi\",80)\n",
    "\n",
    "s.cetakNilai() # akses nilai hanya lewat sini\n",
    "\n",
    "# print(s.nilai) # ga boleh karena private\n",
    "# print(s.__nilai) # ga boleh karena private"
   ]
  },
  {
   "cell_type": "code",
   "execution_count": 15,
   "id": "8c577c7a",
   "metadata": {},
   "outputs": [
    {
     "name": "stdout",
     "output_type": "stream",
     "text": [
      "12.566370614359172\n",
      "12.566370614359172\n",
      "3.141592653589793\n"
     ]
    }
   ],
   "source": [
    "import math\n",
    "class Circle:\n",
    "    def __init__(self, radius, color):\n",
    "        self.__radius = radius\n",
    "        self.__color = color\n",
    "        \n",
    "    def getRadius(self):\n",
    "        return self.__radius\n",
    "    \n",
    "    def setRadius(self,radius):\n",
    "        self.__radius = radius\n",
    "    \n",
    "    def getColor(self):\n",
    "        return self.__color\n",
    "    \n",
    "    def setColor(self,color):\n",
    "        self.__color = color\n",
    "    \n",
    "    def getArea(self):\n",
    "        return math.pi * self.__radius ** 2\n",
    "    \n",
    "\n",
    "# radius = 2, color = blue\n",
    "c1 = Circle(2,\"blue\")\n",
    "# c1.setRadius(2)\n",
    "# c1.setColor(\"blue\")\n",
    "print(c1.getArea())\n",
    "\n",
    "# radius = 2, color = red\n",
    "c2 = Circle(2,\"red\")\n",
    "# c2.setRadius(2)\n",
    "# c2.setColor(\"red\")\n",
    "print(c2.getArea())\n",
    "\n",
    "# radius = 1, color = red\n",
    "c3 = Circle(1,\"red\")\n",
    "# c3.setRadius(1)\n",
    "# c3.setColor(\"red\")\n",
    "print(c3.getArea())"
   ]
  },
  {
   "cell_type": "code",
   "execution_count": 17,
   "id": "f1469a34",
   "metadata": {},
   "outputs": [
    {
     "name": "stdout",
     "output_type": "stream",
     "text": [
      "Masukkan Jumlah Siswa = 1\n",
      "Masukkkan Jumlah Course = 2\n",
      "Masukkan Nama Siswa = Rizky\n",
      "Masukkan Alamat Siswa = Blora\n",
      "Masukkan Nama Mapel Siswa Rizky = Data Analyst\n",
      "Masukkan Nilai Mapel Siswa Rizky = 98\n",
      "Masukkan Nama Mapel Siswa Rizky = Big Data\n",
      "Masukkan Nilai Mapel Siswa Rizky = 96\n",
      "Hasil\n",
      "Rizky Blora\n",
      "Data Analyst : 98\n",
      "Big Data : 96\n",
      "Rata-Rata :  97.0\n"
     ]
    }
   ],
   "source": [
    "class Student:\n",
    "    def __init__(self,name,address):\n",
    "        self.__name = name\n",
    "        self.__address = address\n",
    "        self.__numCourses = 0\n",
    "        self.__courses = []\n",
    "        self.__grades = []\n",
    "        \n",
    "    def getName(self):\n",
    "        return self.__name\n",
    "    \n",
    "    def getAddress(self):\n",
    "        return self.__address\n",
    "    \n",
    "    def setAddress(self,address):\n",
    "        self.__address = address\n",
    "        \n",
    "    def addCourseGrade(self,course,grade):\n",
    "        self.__courses.append(course)\n",
    "        self.__grades.append(grade)\n",
    "        self.__numCourses += 1\n",
    "        \n",
    "    def printGrades(self):\n",
    "        for i in range(len(self.__courses)):\n",
    "            print(self.__courses[i] +\" : \"+ str(self.__grades[i]))\n",
    "            \n",
    "    def getAverageGrade(self):\n",
    "        sum = 0\n",
    "        for n in self.__grades:\n",
    "            sum += n\n",
    "        return sum / len(self.__grades)\n",
    "            \n",
    "\n",
    "n_siswa = int(input(\"Masukkan Jumlah Siswa = \"))\n",
    "n_course = int(input(\"Masukkkan Jumlah Course = \"))\n",
    "\n",
    "siswa = []\n",
    "for i in range(n_siswa):\n",
    "    nama = input(\"Masukkan Nama Siswa = \")\n",
    "    alamat = input(\"Masukkan Alamat Siswa = \")\n",
    "    siswa.append(Student(nama,alamat))\n",
    "    for j in range(n_course):\n",
    "        mapel = input(\"Masukkan Nama Mapel Siswa \"+nama+\" = \")\n",
    "        nilai = int(input(\"Masukkan Nilai Mapel Siswa \"+nama+\" = \"))\n",
    "        siswa[i].addCourseGrade(mapel,nilai)\n",
    "\n",
    "print(\"Hasil\")\n",
    "for i in range(n_siswa):\n",
    "    print(siswa[i].getName(),siswa[i].getAddress())\n",
    "    siswa[i].printGrades()\n",
    "    print(\"Rata-Rata : \", siswa[i].getAverageGrade())\n",
    "\n",
    "# s1 = Student(\"Ani\",\"Yogyakarta\")\n",
    "# print(s1.getName(),s1.getAddress())\n",
    "# s1.addCourseGrade(\"Matematika\",95)\n",
    "# s1.addCourseGrade(\"IPA\",90)\n",
    "# s1.addCourseGrade(\"Bahasa Indonesia\",85)\n",
    "# s1.printGrades()\n",
    "# print(\"Rata-Rata : \", s1.getAverageGrade())\n",
    "\n",
    "# print()\n",
    "# s2 = Student(\"Budi\",\"Jakarta\")\n",
    "# print(s2.getName(),s2.getAddress())\n",
    "# s2.addCourseGrade(\"Matematika\",60)\n",
    "# s2.addCourseGrade(\"IPA\",70)\n",
    "# s2.addCourseGrade(\"Bahasa Indonesia\",100)\n",
    "# s2.printGrades()\n",
    "# print(\"Rata-Rata : \", s2.getAverageGrade())"
   ]
  },
  {
   "cell_type": "code",
   "execution_count": 18,
   "id": "d9d40422",
   "metadata": {},
   "outputs": [
    {
     "name": "stdout",
     "output_type": "stream",
     "text": [
      "Guntur Budi\n",
      "69000\n"
     ]
    }
   ],
   "source": [
    "class Employee:\n",
    "    def __init__(self,idEmp,firstName,lastName,salary):\n",
    "        self.__idEmp = idEmp\n",
    "        self.__firstName = firstName\n",
    "        self.__lastName = lastName\n",
    "        self.__salary = salary\n",
    "    \n",
    "    def getID(self):\n",
    "        return self.__idEmp\n",
    "    \n",
    "    def getFirstName(self):\n",
    "        return self.__firstName\n",
    "    \n",
    "    def getLastName(self):\n",
    "        return self.__lastName\n",
    "    \n",
    "    def getName(self):\n",
    "        return self.__firstName + \" \" + self.__lastName\n",
    "    \n",
    "    def getSalary(self):\n",
    "        return self.__salary\n",
    "    \n",
    "    def setSalary(self,salary):\n",
    "        self.__salary = salary\n",
    "        \n",
    "    def getAnnualSalary(self):\n",
    "        return self.__salary * 12\n",
    "    \n",
    "    def raiseSalary(self,percent):\n",
    "        self.__salary += self.__salary * (percent/100)\n",
    "        return self.__salary\n",
    "    \n",
    "    def __str__(self):\n",
    "        return self.getName() + \" \" + str(self.getSalary())\n",
    "        \n",
    "\n",
    "class Manager(Employee):\n",
    "    def __init__(self,idEmp,firstName,lastName,salary,bonus):\n",
    "        super().__init__(idEmp,firstName,lastName,salary)\n",
    "        self.__bonus = bonus\n",
    "        \n",
    "    def setBranch(self, branch):\n",
    "        self.__branch = branch\n",
    "    \n",
    "    def getBranch(self, branch):\n",
    "        return self.__branch\n",
    "    \n",
    "    def getBonus(self, bonus):\n",
    "        return self.__bonus\n",
    "    \n",
    "    def setBonus(self, bonus):\n",
    "        self.__bonus = bonus\n",
    "        \n",
    "    def getAnnualSalary(self):\n",
    "        return super().getSalary() * 12 + self.__bonus\n",
    "        \n",
    "\n",
    "m1 = Manager(1234,\"Guntur\",\"Budi\",5000,9000)\n",
    "print(m1.getName())\n",
    "print(m1.getAnnualSalary())\n",
    "\n",
    "# e1 = Employee(1234,\"Guntur\",\"Budi\",5000)\n",
    "# print(e1.getSalary())\n",
    "# print(e1.getAnnualSalary())\n",
    "# print(e1.raiseSalary(50))\n",
    "# print(e1.getAnnualSalary())\n",
    "# print(e1)"
   ]
  },
  {
   "cell_type": "code",
   "execution_count": 19,
   "id": "925f9ba7",
   "metadata": {},
   "outputs": [],
   "source": [
    "class Person:\n",
    "    def __init__(self,name,address):\n",
    "        self.__name = name\n",
    "        self.__address = address\n",
    "    \n",
    "    def getName(self):\n",
    "        return self.__name\n",
    "    \n",
    "    def getAddress(self):\n",
    "        return self.__address\n",
    "    \n",
    "    def setName(name):\n",
    "        self.__name = name\n",
    "        \n",
    "    def __str__(self):\n",
    "        return self.__name+\" \"+self.__address"
   ]
  },
  {
   "cell_type": "code",
   "execution_count": 20,
   "id": "7cb98db3",
   "metadata": {},
   "outputs": [],
   "source": [
    "class Student(Person):\n",
    "    def __init__(self,name,address):\n",
    "        super().__init__(name,address)\n",
    "        self.__numCourses = 0\n",
    "        self.__courses = []\n",
    "        self.__grades = []        \n",
    "    \n",
    "    def addCourseGrade(self,course,grade):\n",
    "        self.__courses.append(course)\n",
    "        self.__grades.append(grade)\n",
    "        self.__numCourses += 1\n",
    "        \n",
    "    def printGrades(self):\n",
    "        for i in range(len(self.__courses)):\n",
    "            print(self.__courses[i] +\" : \"+ str(self.__grades[i]))\n",
    "            \n",
    "    def getAverageGrade(self):\n",
    "        sum = 0\n",
    "        for n in self.__grades:\n",
    "            sum += n\n",
    "        return sum / len(self.__grades)\n",
    "    \n",
    "    def __str__(self):\n",
    "        return \"Student: \" + super().getName() + \" \" +super().getAddress()"
   ]
  },
  {
   "cell_type": "code",
   "execution_count": 21,
   "id": "9c6e7a01",
   "metadata": {},
   "outputs": [],
   "source": [
    "class Teacher(Person):\n",
    "    def __init__(self,name,address):\n",
    "        super().__init__(name,address)\n",
    "        self.__numCourses = 0\n",
    "        self.__courses = []\n",
    "        \n",
    "    def addCourse(self, course):\n",
    "        if course not in self.__courses:\n",
    "            self.__courses.append(course)\n",
    "            return True\n",
    "        else:\n",
    "            return False\n",
    "        \n",
    "    def removeCourse(self, course):\n",
    "        if course in self.__courses:\n",
    "            i = self.__courses.index(course)\n",
    "            del self.__courses[i]\n",
    "            return True\n",
    "        else:\n",
    "            return False\n",
    "        \n",
    "    def printCourse(self):\n",
    "        print(self.__courses)\n",
    "        \n",
    "    def __str__(self):\n",
    "        return \"Teacher: \" + super().getName() + \" \" +super().getAddress()"
   ]
  },
  {
   "cell_type": "code",
   "execution_count": 22,
   "id": "88694418",
   "metadata": {},
   "outputs": [
    {
     "name": "stdout",
     "output_type": "stream",
     "text": [
      "Teacher: Pak Budi Jakarta\n",
      "['Matematika', 'Fisika']\n",
      "Gagal Dihapus\n",
      "['Matematika', 'Fisika']\n"
     ]
    }
   ],
   "source": [
    "t1 = Teacher(\"Pak Budi\",\"Jakarta\")\n",
    "print(t1)\n",
    "\n",
    "t1.addCourse(\"Matematika\")\n",
    "t1.addCourse(\"Fisika\")\n",
    "\n",
    "t1.printCourse()\n",
    "if(t1.removeCourse(\"Biologi\")):\n",
    "    print(\"Berhasil Dihapus\")\n",
    "else:\n",
    "    print(\"Gagal Dihapus\")\n",
    "t1.printCourse()"
   ]
  }
 ],
 "metadata": {
  "kernelspec": {
   "display_name": "Python 3 (ipykernel)",
   "language": "python",
   "name": "python3"
  },
  "language_info": {
   "codemirror_mode": {
    "name": "ipython",
    "version": 3
   },
   "file_extension": ".py",
   "mimetype": "text/x-python",
   "name": "python",
   "nbconvert_exporter": "python",
   "pygments_lexer": "ipython3",
   "version": "3.9.12"
  }
 },
 "nbformat": 4,
 "nbformat_minor": 5
}
